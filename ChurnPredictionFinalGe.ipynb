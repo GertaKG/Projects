{
 "cells": [
  {
   "cell_type": "code",
   "execution_count": 1,
   "metadata": {},
   "outputs": [],
   "source": [
    "import pandas as pd\n",
    "import numpy as np\n",
    "import matplotlib.pyplot as plt\n",
    "import seaborn as sns\n",
    "import sklearn\n",
    "from sklearn.preprocessing import StandardScaler\n",
    "from sklearn.preprocessing import LabelEncoder\n",
    "from sklearn.linear_model import LogisticRegression\n",
    "from sklearn.model_selection import KFold,StratifiedKFold,train_test_split\n",
    "from sklearn.metrics import roc_auc_score,accuracy_score,confusion_matrix,roc_curve,precision_score,recall_score\n",
    "import warnings\n",
    "warnings.simplefilter(action='ignore',category=FutureWarning)\n",
    "warnings.simplefilter(action='ignore',category=UserWarning)"
   ]
  },
  {
   "cell_type": "code",
   "execution_count": 2,
   "metadata": {},
   "outputs": [
    {
     "data": {
      "text/html": [
       "<div>\n",
       "<style scoped>\n",
       "    .dataframe tbody tr th:only-of-type {\n",
       "        vertical-align: middle;\n",
       "    }\n",
       "\n",
       "    .dataframe tbody tr th {\n",
       "        vertical-align: top;\n",
       "    }\n",
       "\n",
       "    .dataframe thead th {\n",
       "        text-align: right;\n",
       "    }\n",
       "</style>\n",
       "<table border=\"1\" class=\"dataframe\">\n",
       "  <thead>\n",
       "    <tr style=\"text-align: right;\">\n",
       "      <th></th>\n",
       "      <th>customer_id</th>\n",
       "      <th>vintage</th>\n",
       "      <th>age</th>\n",
       "      <th>gender</th>\n",
       "      <th>dependents</th>\n",
       "      <th>occupation</th>\n",
       "      <th>city</th>\n",
       "      <th>customer_nw_category</th>\n",
       "      <th>branch_code</th>\n",
       "      <th>days_since_last_transaction</th>\n",
       "      <th>...</th>\n",
       "      <th>previous_month_end_balance</th>\n",
       "      <th>average_monthly_balance_prevQ</th>\n",
       "      <th>average_monthly_balance_prevQ2</th>\n",
       "      <th>current_month_credit</th>\n",
       "      <th>previous_month_credit</th>\n",
       "      <th>current_month_debit</th>\n",
       "      <th>previous_month_debit</th>\n",
       "      <th>current_month_balance</th>\n",
       "      <th>previous_month_balance</th>\n",
       "      <th>churn</th>\n",
       "    </tr>\n",
       "  </thead>\n",
       "  <tbody>\n",
       "    <tr>\n",
       "      <th>0</th>\n",
       "      <td>1</td>\n",
       "      <td>3135</td>\n",
       "      <td>66</td>\n",
       "      <td>Male</td>\n",
       "      <td>0.0</td>\n",
       "      <td>self_employed</td>\n",
       "      <td>187.0</td>\n",
       "      <td>2</td>\n",
       "      <td>755</td>\n",
       "      <td>224.0</td>\n",
       "      <td>...</td>\n",
       "      <td>1458.71</td>\n",
       "      <td>1458.71</td>\n",
       "      <td>1449.07</td>\n",
       "      <td>0.20</td>\n",
       "      <td>0.20</td>\n",
       "      <td>0.20</td>\n",
       "      <td>0.20</td>\n",
       "      <td>1458.71</td>\n",
       "      <td>1458.71</td>\n",
       "      <td>0</td>\n",
       "    </tr>\n",
       "    <tr>\n",
       "      <th>1</th>\n",
       "      <td>2</td>\n",
       "      <td>310</td>\n",
       "      <td>35</td>\n",
       "      <td>Male</td>\n",
       "      <td>0.0</td>\n",
       "      <td>self_employed</td>\n",
       "      <td>NaN</td>\n",
       "      <td>2</td>\n",
       "      <td>3214</td>\n",
       "      <td>60.0</td>\n",
       "      <td>...</td>\n",
       "      <td>8704.66</td>\n",
       "      <td>7799.26</td>\n",
       "      <td>12419.41</td>\n",
       "      <td>0.56</td>\n",
       "      <td>0.56</td>\n",
       "      <td>5486.27</td>\n",
       "      <td>100.56</td>\n",
       "      <td>6496.78</td>\n",
       "      <td>8787.61</td>\n",
       "      <td>0</td>\n",
       "    </tr>\n",
       "    <tr>\n",
       "      <th>2</th>\n",
       "      <td>4</td>\n",
       "      <td>2356</td>\n",
       "      <td>31</td>\n",
       "      <td>Male</td>\n",
       "      <td>0.0</td>\n",
       "      <td>salaried</td>\n",
       "      <td>146.0</td>\n",
       "      <td>2</td>\n",
       "      <td>41</td>\n",
       "      <td>NaN</td>\n",
       "      <td>...</td>\n",
       "      <td>5815.29</td>\n",
       "      <td>4910.17</td>\n",
       "      <td>2815.94</td>\n",
       "      <td>0.61</td>\n",
       "      <td>0.61</td>\n",
       "      <td>6046.73</td>\n",
       "      <td>259.23</td>\n",
       "      <td>5006.28</td>\n",
       "      <td>5070.14</td>\n",
       "      <td>0</td>\n",
       "    </tr>\n",
       "    <tr>\n",
       "      <th>3</th>\n",
       "      <td>5</td>\n",
       "      <td>478</td>\n",
       "      <td>90</td>\n",
       "      <td>NaN</td>\n",
       "      <td>NaN</td>\n",
       "      <td>self_employed</td>\n",
       "      <td>1020.0</td>\n",
       "      <td>2</td>\n",
       "      <td>582</td>\n",
       "      <td>147.0</td>\n",
       "      <td>...</td>\n",
       "      <td>2291.91</td>\n",
       "      <td>2084.54</td>\n",
       "      <td>1006.54</td>\n",
       "      <td>0.47</td>\n",
       "      <td>0.47</td>\n",
       "      <td>0.47</td>\n",
       "      <td>2143.33</td>\n",
       "      <td>2291.91</td>\n",
       "      <td>1669.79</td>\n",
       "      <td>1</td>\n",
       "    </tr>\n",
       "    <tr>\n",
       "      <th>4</th>\n",
       "      <td>6</td>\n",
       "      <td>2531</td>\n",
       "      <td>42</td>\n",
       "      <td>Male</td>\n",
       "      <td>2.0</td>\n",
       "      <td>self_employed</td>\n",
       "      <td>1494.0</td>\n",
       "      <td>3</td>\n",
       "      <td>388</td>\n",
       "      <td>58.0</td>\n",
       "      <td>...</td>\n",
       "      <td>1401.72</td>\n",
       "      <td>1643.31</td>\n",
       "      <td>1871.12</td>\n",
       "      <td>0.33</td>\n",
       "      <td>714.61</td>\n",
       "      <td>588.62</td>\n",
       "      <td>1538.06</td>\n",
       "      <td>1157.15</td>\n",
       "      <td>1677.16</td>\n",
       "      <td>1</td>\n",
       "    </tr>\n",
       "  </tbody>\n",
       "</table>\n",
       "<p>5 rows × 21 columns</p>\n",
       "</div>"
      ],
      "text/plain": [
       "   customer_id  vintage  age gender  dependents     occupation    city  \\\n",
       "0            1     3135   66   Male         0.0  self_employed   187.0   \n",
       "1            2      310   35   Male         0.0  self_employed     NaN   \n",
       "2            4     2356   31   Male         0.0       salaried   146.0   \n",
       "3            5      478   90    NaN         NaN  self_employed  1020.0   \n",
       "4            6     2531   42   Male         2.0  self_employed  1494.0   \n",
       "\n",
       "   customer_nw_category  branch_code  days_since_last_transaction  ...  \\\n",
       "0                     2          755                        224.0  ...   \n",
       "1                     2         3214                         60.0  ...   \n",
       "2                     2           41                          NaN  ...   \n",
       "3                     2          582                        147.0  ...   \n",
       "4                     3          388                         58.0  ...   \n",
       "\n",
       "   previous_month_end_balance  average_monthly_balance_prevQ  \\\n",
       "0                     1458.71                        1458.71   \n",
       "1                     8704.66                        7799.26   \n",
       "2                     5815.29                        4910.17   \n",
       "3                     2291.91                        2084.54   \n",
       "4                     1401.72                        1643.31   \n",
       "\n",
       "   average_monthly_balance_prevQ2  current_month_credit  \\\n",
       "0                         1449.07                  0.20   \n",
       "1                        12419.41                  0.56   \n",
       "2                         2815.94                  0.61   \n",
       "3                         1006.54                  0.47   \n",
       "4                         1871.12                  0.33   \n",
       "\n",
       "   previous_month_credit  current_month_debit  previous_month_debit  \\\n",
       "0                   0.20                 0.20                  0.20   \n",
       "1                   0.56              5486.27                100.56   \n",
       "2                   0.61              6046.73                259.23   \n",
       "3                   0.47                 0.47               2143.33   \n",
       "4                 714.61               588.62               1538.06   \n",
       "\n",
       "   current_month_balance  previous_month_balance  churn  \n",
       "0                1458.71                 1458.71      0  \n",
       "1                6496.78                 8787.61      0  \n",
       "2                5006.28                 5070.14      0  \n",
       "3                2291.91                 1669.79      1  \n",
       "4                1157.15                 1677.16      1  \n",
       "\n",
       "[5 rows x 21 columns]"
      ]
     },
     "execution_count": 2,
     "metadata": {},
     "output_type": "execute_result"
    }
   ],
   "source": [
    "data=pd.read_csv('churn_prediction.csv')\n",
    "data.head()"
   ]
  },
  {
   "cell_type": "code",
   "execution_count": 3,
   "metadata": {},
   "outputs": [
    {
     "data": {
      "text/plain": [
       "(28382, 21)"
      ]
     },
     "execution_count": 3,
     "metadata": {},
     "output_type": "execute_result"
    }
   ],
   "source": [
    "data.shape\n"
   ]
  },
  {
   "cell_type": "code",
   "execution_count": 4,
   "metadata": {},
   "outputs": [
    {
     "name": "stdout",
     "output_type": "stream",
     "text": [
      "<class 'pandas.core.frame.DataFrame'>\n",
      "RangeIndex: 28382 entries, 0 to 28381\n",
      "Data columns (total 21 columns):\n",
      "customer_id                       28382 non-null int64\n",
      "vintage                           28382 non-null int64\n",
      "age                               28382 non-null int64\n",
      "gender                            27857 non-null object\n",
      "dependents                        25919 non-null float64\n",
      "occupation                        28302 non-null object\n",
      "city                              27579 non-null float64\n",
      "customer_nw_category              28382 non-null int64\n",
      "branch_code                       28382 non-null int64\n",
      "days_since_last_transaction       25159 non-null float64\n",
      "current_balance                   28382 non-null float64\n",
      "previous_month_end_balance        28382 non-null float64\n",
      "average_monthly_balance_prevQ     28382 non-null float64\n",
      "average_monthly_balance_prevQ2    28382 non-null float64\n",
      "current_month_credit              28382 non-null float64\n",
      "previous_month_credit             28382 non-null float64\n",
      "current_month_debit               28382 non-null float64\n",
      "previous_month_debit              28382 non-null float64\n",
      "current_month_balance             28382 non-null float64\n",
      "previous_month_balance            28382 non-null float64\n",
      "churn                             28382 non-null int64\n",
      "dtypes: float64(13), int64(6), object(2)\n",
      "memory usage: 4.5+ MB\n"
     ]
    }
   ],
   "source": [
    "data.info()"
   ]
  },
  {
   "cell_type": "code",
   "execution_count": 5,
   "metadata": {},
   "outputs": [
    {
     "data": {
      "text/html": [
       "<div>\n",
       "<style scoped>\n",
       "    .dataframe tbody tr th:only-of-type {\n",
       "        vertical-align: middle;\n",
       "    }\n",
       "\n",
       "    .dataframe tbody tr th {\n",
       "        vertical-align: top;\n",
       "    }\n",
       "\n",
       "    .dataframe thead th {\n",
       "        text-align: right;\n",
       "    }\n",
       "</style>\n",
       "<table border=\"1\" class=\"dataframe\">\n",
       "  <thead>\n",
       "    <tr style=\"text-align: right;\">\n",
       "      <th></th>\n",
       "      <th>count</th>\n",
       "      <th>mean</th>\n",
       "      <th>std</th>\n",
       "      <th>min</th>\n",
       "      <th>25%</th>\n",
       "      <th>50%</th>\n",
       "      <th>75%</th>\n",
       "      <th>max</th>\n",
       "    </tr>\n",
       "  </thead>\n",
       "  <tbody>\n",
       "    <tr>\n",
       "      <th>customer_id</th>\n",
       "      <td>28382.0</td>\n",
       "      <td>15143.508667</td>\n",
       "      <td>8746.454456</td>\n",
       "      <td>1.00</td>\n",
       "      <td>7557.2500</td>\n",
       "      <td>15150.500</td>\n",
       "      <td>22706.7500</td>\n",
       "      <td>30301.00</td>\n",
       "    </tr>\n",
       "    <tr>\n",
       "      <th>vintage</th>\n",
       "      <td>28382.0</td>\n",
       "      <td>2364.336446</td>\n",
       "      <td>1610.124506</td>\n",
       "      <td>180.00</td>\n",
       "      <td>1121.0000</td>\n",
       "      <td>2018.000</td>\n",
       "      <td>3176.0000</td>\n",
       "      <td>12899.00</td>\n",
       "    </tr>\n",
       "    <tr>\n",
       "      <th>age</th>\n",
       "      <td>28382.0</td>\n",
       "      <td>48.208336</td>\n",
       "      <td>17.807163</td>\n",
       "      <td>1.00</td>\n",
       "      <td>36.0000</td>\n",
       "      <td>46.000</td>\n",
       "      <td>60.0000</td>\n",
       "      <td>90.00</td>\n",
       "    </tr>\n",
       "    <tr>\n",
       "      <th>dependents</th>\n",
       "      <td>25919.0</td>\n",
       "      <td>0.347236</td>\n",
       "      <td>0.997661</td>\n",
       "      <td>0.00</td>\n",
       "      <td>0.0000</td>\n",
       "      <td>0.000</td>\n",
       "      <td>0.0000</td>\n",
       "      <td>52.00</td>\n",
       "    </tr>\n",
       "    <tr>\n",
       "      <th>city</th>\n",
       "      <td>27579.0</td>\n",
       "      <td>796.109576</td>\n",
       "      <td>432.872102</td>\n",
       "      <td>0.00</td>\n",
       "      <td>409.0000</td>\n",
       "      <td>834.000</td>\n",
       "      <td>1096.0000</td>\n",
       "      <td>1649.00</td>\n",
       "    </tr>\n",
       "    <tr>\n",
       "      <th>customer_nw_category</th>\n",
       "      <td>28382.0</td>\n",
       "      <td>2.225530</td>\n",
       "      <td>0.660443</td>\n",
       "      <td>1.00</td>\n",
       "      <td>2.0000</td>\n",
       "      <td>2.000</td>\n",
       "      <td>3.0000</td>\n",
       "      <td>3.00</td>\n",
       "    </tr>\n",
       "    <tr>\n",
       "      <th>branch_code</th>\n",
       "      <td>28382.0</td>\n",
       "      <td>925.975019</td>\n",
       "      <td>937.799129</td>\n",
       "      <td>1.00</td>\n",
       "      <td>176.0000</td>\n",
       "      <td>572.000</td>\n",
       "      <td>1440.0000</td>\n",
       "      <td>4782.00</td>\n",
       "    </tr>\n",
       "    <tr>\n",
       "      <th>days_since_last_transaction</th>\n",
       "      <td>25159.0</td>\n",
       "      <td>69.997814</td>\n",
       "      <td>86.341098</td>\n",
       "      <td>0.00</td>\n",
       "      <td>11.0000</td>\n",
       "      <td>30.000</td>\n",
       "      <td>95.0000</td>\n",
       "      <td>365.00</td>\n",
       "    </tr>\n",
       "    <tr>\n",
       "      <th>current_balance</th>\n",
       "      <td>28382.0</td>\n",
       "      <td>7380.551804</td>\n",
       "      <td>42598.711923</td>\n",
       "      <td>-5503.96</td>\n",
       "      <td>1784.4700</td>\n",
       "      <td>3281.255</td>\n",
       "      <td>6635.8200</td>\n",
       "      <td>5905904.03</td>\n",
       "    </tr>\n",
       "    <tr>\n",
       "      <th>previous_month_end_balance</th>\n",
       "      <td>28382.0</td>\n",
       "      <td>7495.770548</td>\n",
       "      <td>42529.345225</td>\n",
       "      <td>-3149.57</td>\n",
       "      <td>1906.0000</td>\n",
       "      <td>3379.915</td>\n",
       "      <td>6656.5350</td>\n",
       "      <td>5740438.63</td>\n",
       "    </tr>\n",
       "    <tr>\n",
       "      <th>average_monthly_balance_prevQ</th>\n",
       "      <td>28382.0</td>\n",
       "      <td>7496.779856</td>\n",
       "      <td>41726.218776</td>\n",
       "      <td>1428.69</td>\n",
       "      <td>2180.9450</td>\n",
       "      <td>3542.865</td>\n",
       "      <td>6666.8875</td>\n",
       "      <td>5700289.57</td>\n",
       "    </tr>\n",
       "    <tr>\n",
       "      <th>average_monthly_balance_prevQ2</th>\n",
       "      <td>28382.0</td>\n",
       "      <td>7124.209162</td>\n",
       "      <td>44575.809640</td>\n",
       "      <td>-16506.10</td>\n",
       "      <td>1832.5075</td>\n",
       "      <td>3359.600</td>\n",
       "      <td>6517.9600</td>\n",
       "      <td>5010170.10</td>\n",
       "    </tr>\n",
       "    <tr>\n",
       "      <th>current_month_credit</th>\n",
       "      <td>28382.0</td>\n",
       "      <td>3433.252240</td>\n",
       "      <td>77071.452408</td>\n",
       "      <td>0.01</td>\n",
       "      <td>0.3100</td>\n",
       "      <td>0.610</td>\n",
       "      <td>707.2725</td>\n",
       "      <td>12269845.39</td>\n",
       "    </tr>\n",
       "    <tr>\n",
       "      <th>previous_month_credit</th>\n",
       "      <td>28382.0</td>\n",
       "      <td>3261.694458</td>\n",
       "      <td>29688.889329</td>\n",
       "      <td>0.01</td>\n",
       "      <td>0.3300</td>\n",
       "      <td>0.630</td>\n",
       "      <td>749.2350</td>\n",
       "      <td>2361808.29</td>\n",
       "    </tr>\n",
       "    <tr>\n",
       "      <th>current_month_debit</th>\n",
       "      <td>28382.0</td>\n",
       "      <td>3658.744549</td>\n",
       "      <td>51985.423665</td>\n",
       "      <td>0.01</td>\n",
       "      <td>0.4100</td>\n",
       "      <td>91.930</td>\n",
       "      <td>1360.4350</td>\n",
       "      <td>7637857.36</td>\n",
       "    </tr>\n",
       "    <tr>\n",
       "      <th>previous_month_debit</th>\n",
       "      <td>28382.0</td>\n",
       "      <td>3339.761353</td>\n",
       "      <td>24301.111683</td>\n",
       "      <td>0.01</td>\n",
       "      <td>0.4100</td>\n",
       "      <td>109.960</td>\n",
       "      <td>1357.5525</td>\n",
       "      <td>1414168.06</td>\n",
       "    </tr>\n",
       "    <tr>\n",
       "      <th>current_month_balance</th>\n",
       "      <td>28382.0</td>\n",
       "      <td>7451.132765</td>\n",
       "      <td>42033.938543</td>\n",
       "      <td>-3374.18</td>\n",
       "      <td>1996.7650</td>\n",
       "      <td>3447.995</td>\n",
       "      <td>6667.9575</td>\n",
       "      <td>5778184.77</td>\n",
       "    </tr>\n",
       "    <tr>\n",
       "      <th>previous_month_balance</th>\n",
       "      <td>28382.0</td>\n",
       "      <td>7495.177129</td>\n",
       "      <td>42431.978814</td>\n",
       "      <td>-5171.92</td>\n",
       "      <td>2074.4075</td>\n",
       "      <td>3465.235</td>\n",
       "      <td>6654.6925</td>\n",
       "      <td>5720144.50</td>\n",
       "    </tr>\n",
       "    <tr>\n",
       "      <th>churn</th>\n",
       "      <td>28382.0</td>\n",
       "      <td>0.185329</td>\n",
       "      <td>0.388571</td>\n",
       "      <td>0.00</td>\n",
       "      <td>0.0000</td>\n",
       "      <td>0.000</td>\n",
       "      <td>0.0000</td>\n",
       "      <td>1.00</td>\n",
       "    </tr>\n",
       "  </tbody>\n",
       "</table>\n",
       "</div>"
      ],
      "text/plain": [
       "                                  count          mean           std       min  \\\n",
       "customer_id                     28382.0  15143.508667   8746.454456      1.00   \n",
       "vintage                         28382.0   2364.336446   1610.124506    180.00   \n",
       "age                             28382.0     48.208336     17.807163      1.00   \n",
       "dependents                      25919.0      0.347236      0.997661      0.00   \n",
       "city                            27579.0    796.109576    432.872102      0.00   \n",
       "customer_nw_category            28382.0      2.225530      0.660443      1.00   \n",
       "branch_code                     28382.0    925.975019    937.799129      1.00   \n",
       "days_since_last_transaction     25159.0     69.997814     86.341098      0.00   \n",
       "current_balance                 28382.0   7380.551804  42598.711923  -5503.96   \n",
       "previous_month_end_balance      28382.0   7495.770548  42529.345225  -3149.57   \n",
       "average_monthly_balance_prevQ   28382.0   7496.779856  41726.218776   1428.69   \n",
       "average_monthly_balance_prevQ2  28382.0   7124.209162  44575.809640 -16506.10   \n",
       "current_month_credit            28382.0   3433.252240  77071.452408      0.01   \n",
       "previous_month_credit           28382.0   3261.694458  29688.889329      0.01   \n",
       "current_month_debit             28382.0   3658.744549  51985.423665      0.01   \n",
       "previous_month_debit            28382.0   3339.761353  24301.111683      0.01   \n",
       "current_month_balance           28382.0   7451.132765  42033.938543  -3374.18   \n",
       "previous_month_balance          28382.0   7495.177129  42431.978814  -5171.92   \n",
       "churn                           28382.0      0.185329      0.388571      0.00   \n",
       "\n",
       "                                      25%        50%         75%          max  \n",
       "customer_id                     7557.2500  15150.500  22706.7500     30301.00  \n",
       "vintage                         1121.0000   2018.000   3176.0000     12899.00  \n",
       "age                               36.0000     46.000     60.0000        90.00  \n",
       "dependents                         0.0000      0.000      0.0000        52.00  \n",
       "city                             409.0000    834.000   1096.0000      1649.00  \n",
       "customer_nw_category               2.0000      2.000      3.0000         3.00  \n",
       "branch_code                      176.0000    572.000   1440.0000      4782.00  \n",
       "days_since_last_transaction       11.0000     30.000     95.0000       365.00  \n",
       "current_balance                 1784.4700   3281.255   6635.8200   5905904.03  \n",
       "previous_month_end_balance      1906.0000   3379.915   6656.5350   5740438.63  \n",
       "average_monthly_balance_prevQ   2180.9450   3542.865   6666.8875   5700289.57  \n",
       "average_monthly_balance_prevQ2  1832.5075   3359.600   6517.9600   5010170.10  \n",
       "current_month_credit               0.3100      0.610    707.2725  12269845.39  \n",
       "previous_month_credit              0.3300      0.630    749.2350   2361808.29  \n",
       "current_month_debit                0.4100     91.930   1360.4350   7637857.36  \n",
       "previous_month_debit               0.4100    109.960   1357.5525   1414168.06  \n",
       "current_month_balance           1996.7650   3447.995   6667.9575   5778184.77  \n",
       "previous_month_balance          2074.4075   3465.235   6654.6925   5720144.50  \n",
       "churn                              0.0000      0.000      0.0000         1.00  "
      ]
     },
     "execution_count": 5,
     "metadata": {},
     "output_type": "execute_result"
    }
   ],
   "source": [
    "data.describe().T"
   ]
  },
  {
   "cell_type": "code",
   "execution_count": 6,
   "metadata": {},
   "outputs": [
    {
     "data": {
      "text/plain": [
       "customer_id                          0\n",
       "vintage                              0\n",
       "age                                  0\n",
       "gender                             525\n",
       "dependents                        2463\n",
       "occupation                          80\n",
       "city                               803\n",
       "customer_nw_category                 0\n",
       "branch_code                          0\n",
       "days_since_last_transaction       3223\n",
       "current_balance                      0\n",
       "previous_month_end_balance           0\n",
       "average_monthly_balance_prevQ        0\n",
       "average_monthly_balance_prevQ2       0\n",
       "current_month_credit                 0\n",
       "previous_month_credit                0\n",
       "current_month_debit                  0\n",
       "previous_month_debit                 0\n",
       "current_month_balance                0\n",
       "previous_month_balance               0\n",
       "churn                                0\n",
       "dtype: int64"
      ]
     },
     "execution_count": 6,
     "metadata": {},
     "output_type": "execute_result"
    }
   ],
   "source": [
    "#let see columns where we have missing values\n",
    "data.isnull().sum()# gender,dependants,occupation,city,days_since_last_transaction"
   ]
  },
  {
   "cell_type": "code",
   "execution_count": 7,
   "metadata": {},
   "outputs": [
    {
     "data": {
      "text/plain": [
       "Male      16548\n",
       "Female    11309\n",
       "Name: gender, dtype: int64"
      ]
     },
     "execution_count": 7,
     "metadata": {},
     "output_type": "execute_result"
    }
   ],
   "source": [
    "data.gender.value_counts() # both classes are reasonably similiar so we create a new one to fill the missing values, do not use mode in thsi case"
   ]
  },
  {
   "cell_type": "code",
   "execution_count": 8,
   "metadata": {},
   "outputs": [],
   "source": [
    "data['gender']=data['gender'].map({'Male':0,'Female':1,np.nan:-1})"
   ]
  },
  {
   "cell_type": "code",
   "execution_count": 9,
   "metadata": {},
   "outputs": [],
   "source": [
    "#data.drop('gender_',axis=1,inplace=True)#becasue created earlier a column named gender_ and replaced with gender"
   ]
  },
  {
   "cell_type": "markdown",
   "metadata": {},
   "source": [
    "### CITY , OCCUPATION,DEPENDENTS filling missing values using MODE"
   ]
  },
  {
   "cell_type": "code",
   "execution_count": 10,
   "metadata": {},
   "outputs": [
    {
     "data": {
      "text/plain": [
       "1020.0    3479\n",
       "1096.0    2016\n",
       "409.0     1334\n",
       "146.0     1291\n",
       "834.0     1138\n",
       "Name: city, dtype: int64"
      ]
     },
     "execution_count": 10,
     "metadata": {},
     "output_type": "execute_result"
    }
   ],
   "source": [
    "data['city'].value_counts().head()"
   ]
  },
  {
   "cell_type": "code",
   "execution_count": 11,
   "metadata": {},
   "outputs": [
    {
     "data": {
      "text/plain": [
       "self_employed    17476\n",
       "salaried          6704\n",
       "student           2058\n",
       "retired           2024\n",
       "company             40\n",
       "Name: occupation, dtype: int64"
      ]
     },
     "execution_count": 11,
     "metadata": {},
     "output_type": "execute_result"
    }
   ],
   "source": [
    "data['occupation'].value_counts().head()"
   ]
  },
  {
   "cell_type": "code",
   "execution_count": 12,
   "metadata": {},
   "outputs": [
    {
     "data": {
      "text/plain": [
       "0.0    21435\n",
       "2.0     2150\n",
       "1.0     1395\n",
       "3.0      701\n",
       "4.0      179\n",
       "Name: dependents, dtype: int64"
      ]
     },
     "execution_count": 12,
     "metadata": {},
     "output_type": "execute_result"
    }
   ],
   "source": [
    "data['dependents'].value_counts().head()"
   ]
  },
  {
   "cell_type": "code",
   "execution_count": 13,
   "metadata": {},
   "outputs": [],
   "source": [
    "#filling missing values\n",
    "data['city']=data['city'].fillna(1020)\n",
    "data['occupation']=data['occupation'].fillna('self_employed')\n",
    "data['dependents']=data['dependents'].fillna(0)"
   ]
  },
  {
   "cell_type": "markdown",
   "metadata": {},
   "source": [
    "### Days_since_last_transaction filling values"
   ]
  },
  {
   "cell_type": "code",
   "execution_count": 14,
   "metadata": {},
   "outputs": [],
   "source": [
    "# we will impute with a value greater than 1 year or 365 days to show numerically that customer has not done any transaction\n",
    "data['days_since_last_transaction']=data['days_since_last_transaction'].fillna(999)"
   ]
  },
  {
   "cell_type": "code",
   "execution_count": 15,
   "metadata": {},
   "outputs": [
    {
     "data": {
      "text/plain": [
       "customer_id                       0\n",
       "vintage                           0\n",
       "age                               0\n",
       "gender                            0\n",
       "dependents                        0\n",
       "occupation                        0\n",
       "city                              0\n",
       "customer_nw_category              0\n",
       "branch_code                       0\n",
       "days_since_last_transaction       0\n",
       "current_balance                   0\n",
       "previous_month_end_balance        0\n",
       "average_monthly_balance_prevQ     0\n",
       "average_monthly_balance_prevQ2    0\n",
       "current_month_credit              0\n",
       "previous_month_credit             0\n",
       "current_month_debit               0\n",
       "previous_month_debit              0\n",
       "current_month_balance             0\n",
       "previous_month_balance            0\n",
       "churn                             0\n",
       "dtype: int64"
      ]
     },
     "execution_count": 15,
     "metadata": {},
     "output_type": "execute_result"
    }
   ],
   "source": [
    "data.isnull().sum()"
   ]
  },
  {
   "cell_type": "code",
   "execution_count": 16,
   "metadata": {},
   "outputs": [],
   "source": [
    "df=data.copy()"
   ]
  },
  {
   "cell_type": "markdown",
   "metadata": {},
   "source": [
    "## Preprocessing of data :scale data ; only numeric values"
   ]
  },
  {
   "cell_type": "code",
   "execution_count": 17,
   "metadata": {},
   "outputs": [],
   "source": [
    "#data.info(), only occupation is object type,let turn into numeric"
   ]
  },
  {
   "cell_type": "code",
   "execution_count": 18,
   "metadata": {},
   "outputs": [
    {
     "data": {
      "text/plain": [
       "self_employed    17556\n",
       "salaried          6704\n",
       "student           2058\n",
       "retired           2024\n",
       "company             40\n",
       "Name: occupation, dtype: int64"
      ]
     },
     "execution_count": 18,
     "metadata": {},
     "output_type": "execute_result"
    }
   ],
   "source": [
    "df.occupation.value_counts()"
   ]
  },
  {
   "cell_type": "code",
   "execution_count": 19,
   "metadata": {},
   "outputs": [],
   "source": [
    "df=pd.concat([df,pd.get_dummies(df['occupation'],prefix=str('occupation'),prefix_sep='_')],axis=1)"
   ]
  },
  {
   "cell_type": "code",
   "execution_count": 20,
   "metadata": {},
   "outputs": [
    {
     "data": {
      "text/html": [
       "<div>\n",
       "<style scoped>\n",
       "    .dataframe tbody tr th:only-of-type {\n",
       "        vertical-align: middle;\n",
       "    }\n",
       "\n",
       "    .dataframe tbody tr th {\n",
       "        vertical-align: top;\n",
       "    }\n",
       "\n",
       "    .dataframe thead th {\n",
       "        text-align: right;\n",
       "    }\n",
       "</style>\n",
       "<table border=\"1\" class=\"dataframe\">\n",
       "  <thead>\n",
       "    <tr style=\"text-align: right;\">\n",
       "      <th></th>\n",
       "      <th>customer_id</th>\n",
       "      <th>vintage</th>\n",
       "      <th>age</th>\n",
       "      <th>gender</th>\n",
       "      <th>dependents</th>\n",
       "      <th>occupation</th>\n",
       "      <th>city</th>\n",
       "      <th>customer_nw_category</th>\n",
       "      <th>branch_code</th>\n",
       "      <th>days_since_last_transaction</th>\n",
       "      <th>...</th>\n",
       "      <th>current_month_debit</th>\n",
       "      <th>previous_month_debit</th>\n",
       "      <th>current_month_balance</th>\n",
       "      <th>previous_month_balance</th>\n",
       "      <th>churn</th>\n",
       "      <th>occupation_company</th>\n",
       "      <th>occupation_retired</th>\n",
       "      <th>occupation_salaried</th>\n",
       "      <th>occupation_self_employed</th>\n",
       "      <th>occupation_student</th>\n",
       "    </tr>\n",
       "  </thead>\n",
       "  <tbody>\n",
       "    <tr>\n",
       "      <th>0</th>\n",
       "      <td>1</td>\n",
       "      <td>3135</td>\n",
       "      <td>66</td>\n",
       "      <td>0</td>\n",
       "      <td>0.0</td>\n",
       "      <td>self_employed</td>\n",
       "      <td>187.0</td>\n",
       "      <td>2</td>\n",
       "      <td>755</td>\n",
       "      <td>224.0</td>\n",
       "      <td>...</td>\n",
       "      <td>0.20</td>\n",
       "      <td>0.20</td>\n",
       "      <td>1458.71</td>\n",
       "      <td>1458.71</td>\n",
       "      <td>0</td>\n",
       "      <td>0</td>\n",
       "      <td>0</td>\n",
       "      <td>0</td>\n",
       "      <td>1</td>\n",
       "      <td>0</td>\n",
       "    </tr>\n",
       "    <tr>\n",
       "      <th>1</th>\n",
       "      <td>2</td>\n",
       "      <td>310</td>\n",
       "      <td>35</td>\n",
       "      <td>0</td>\n",
       "      <td>0.0</td>\n",
       "      <td>self_employed</td>\n",
       "      <td>1020.0</td>\n",
       "      <td>2</td>\n",
       "      <td>3214</td>\n",
       "      <td>60.0</td>\n",
       "      <td>...</td>\n",
       "      <td>5486.27</td>\n",
       "      <td>100.56</td>\n",
       "      <td>6496.78</td>\n",
       "      <td>8787.61</td>\n",
       "      <td>0</td>\n",
       "      <td>0</td>\n",
       "      <td>0</td>\n",
       "      <td>0</td>\n",
       "      <td>1</td>\n",
       "      <td>0</td>\n",
       "    </tr>\n",
       "    <tr>\n",
       "      <th>2</th>\n",
       "      <td>4</td>\n",
       "      <td>2356</td>\n",
       "      <td>31</td>\n",
       "      <td>0</td>\n",
       "      <td>0.0</td>\n",
       "      <td>salaried</td>\n",
       "      <td>146.0</td>\n",
       "      <td>2</td>\n",
       "      <td>41</td>\n",
       "      <td>999.0</td>\n",
       "      <td>...</td>\n",
       "      <td>6046.73</td>\n",
       "      <td>259.23</td>\n",
       "      <td>5006.28</td>\n",
       "      <td>5070.14</td>\n",
       "      <td>0</td>\n",
       "      <td>0</td>\n",
       "      <td>0</td>\n",
       "      <td>1</td>\n",
       "      <td>0</td>\n",
       "      <td>0</td>\n",
       "    </tr>\n",
       "    <tr>\n",
       "      <th>3</th>\n",
       "      <td>5</td>\n",
       "      <td>478</td>\n",
       "      <td>90</td>\n",
       "      <td>-1</td>\n",
       "      <td>0.0</td>\n",
       "      <td>self_employed</td>\n",
       "      <td>1020.0</td>\n",
       "      <td>2</td>\n",
       "      <td>582</td>\n",
       "      <td>147.0</td>\n",
       "      <td>...</td>\n",
       "      <td>0.47</td>\n",
       "      <td>2143.33</td>\n",
       "      <td>2291.91</td>\n",
       "      <td>1669.79</td>\n",
       "      <td>1</td>\n",
       "      <td>0</td>\n",
       "      <td>0</td>\n",
       "      <td>0</td>\n",
       "      <td>1</td>\n",
       "      <td>0</td>\n",
       "    </tr>\n",
       "    <tr>\n",
       "      <th>4</th>\n",
       "      <td>6</td>\n",
       "      <td>2531</td>\n",
       "      <td>42</td>\n",
       "      <td>0</td>\n",
       "      <td>2.0</td>\n",
       "      <td>self_employed</td>\n",
       "      <td>1494.0</td>\n",
       "      <td>3</td>\n",
       "      <td>388</td>\n",
       "      <td>58.0</td>\n",
       "      <td>...</td>\n",
       "      <td>588.62</td>\n",
       "      <td>1538.06</td>\n",
       "      <td>1157.15</td>\n",
       "      <td>1677.16</td>\n",
       "      <td>1</td>\n",
       "      <td>0</td>\n",
       "      <td>0</td>\n",
       "      <td>0</td>\n",
       "      <td>1</td>\n",
       "      <td>0</td>\n",
       "    </tr>\n",
       "  </tbody>\n",
       "</table>\n",
       "<p>5 rows × 26 columns</p>\n",
       "</div>"
      ],
      "text/plain": [
       "   customer_id  vintage  age  gender  dependents     occupation    city  \\\n",
       "0            1     3135   66       0         0.0  self_employed   187.0   \n",
       "1            2      310   35       0         0.0  self_employed  1020.0   \n",
       "2            4     2356   31       0         0.0       salaried   146.0   \n",
       "3            5      478   90      -1         0.0  self_employed  1020.0   \n",
       "4            6     2531   42       0         2.0  self_employed  1494.0   \n",
       "\n",
       "   customer_nw_category  branch_code  days_since_last_transaction  ...  \\\n",
       "0                     2          755                        224.0  ...   \n",
       "1                     2         3214                         60.0  ...   \n",
       "2                     2           41                        999.0  ...   \n",
       "3                     2          582                        147.0  ...   \n",
       "4                     3          388                         58.0  ...   \n",
       "\n",
       "   current_month_debit  previous_month_debit  current_month_balance  \\\n",
       "0                 0.20                  0.20                1458.71   \n",
       "1              5486.27                100.56                6496.78   \n",
       "2              6046.73                259.23                5006.28   \n",
       "3                 0.47               2143.33                2291.91   \n",
       "4               588.62               1538.06                1157.15   \n",
       "\n",
       "   previous_month_balance  churn  occupation_company  occupation_retired  \\\n",
       "0                 1458.71      0                   0                   0   \n",
       "1                 8787.61      0                   0                   0   \n",
       "2                 5070.14      0                   0                   0   \n",
       "3                 1669.79      1                   0                   0   \n",
       "4                 1677.16      1                   0                   0   \n",
       "\n",
       "   occupation_salaried  occupation_self_employed  occupation_student  \n",
       "0                    0                         1                   0  \n",
       "1                    0                         1                   0  \n",
       "2                    1                         0                   0  \n",
       "3                    0                         1                   0  \n",
       "4                    0                         1                   0  \n",
       "\n",
       "[5 rows x 26 columns]"
      ]
     },
     "execution_count": 20,
     "metadata": {},
     "output_type": "execute_result"
    }
   ],
   "source": [
    "df.head()"
   ]
  },
  {
   "cell_type": "code",
   "execution_count": 21,
   "metadata": {},
   "outputs": [],
   "source": [
    "#df.drop('occupation',axis=1,inplace=True)"
   ]
  },
  {
   "cell_type": "code",
   "execution_count": 22,
   "metadata": {},
   "outputs": [],
   "source": [
    "#SCALING NUMERIC FEATURES\n",
    "#We have some skewed features as we saw in describ e method numerically\n",
    "#For skewed columns we are using log transformation and then Standardscaler\n"
   ]
  },
  {
   "cell_type": "code",
   "execution_count": 23,
   "metadata": {},
   "outputs": [
    {
     "data": {
      "text/plain": [
       "Index(['customer_id', 'vintage', 'age', 'gender', 'dependents', 'occupation',\n",
       "       'city', 'customer_nw_category', 'branch_code',\n",
       "       'days_since_last_transaction', 'current_balance',\n",
       "       'previous_month_end_balance', 'average_monthly_balance_prevQ',\n",
       "       'average_monthly_balance_prevQ2', 'current_month_credit',\n",
       "       'previous_month_credit', 'current_month_debit', 'previous_month_debit',\n",
       "       'current_month_balance', 'previous_month_balance', 'churn',\n",
       "       'occupation_company', 'occupation_retired', 'occupation_salaried',\n",
       "       'occupation_self_employed', 'occupation_student'],\n",
       "      dtype='object')"
      ]
     },
     "execution_count": 23,
     "metadata": {},
     "output_type": "execute_result"
    }
   ],
   "source": [
    "df.columns"
   ]
  },
  {
   "cell_type": "code",
   "execution_count": 24,
   "metadata": {},
   "outputs": [],
   "source": [
    "df_cols=['customer_nw_category','current_balance','previous_month_end_balance','average_monthly_balance_prevQ2',\n",
    "        'average_monthly_balance_prevQ','current_month_credit','previous_month_credit','current_month_debit',\n",
    "         'previous_month_debit','current_month_balance','previous_month_balance'\n",
    "        \n",
    "        ]"
   ]
  },
  {
   "cell_type": "code",
   "execution_count": 25,
   "metadata": {},
   "outputs": [],
   "source": [
    "for i in df_cols:\n",
    "    df[i]=np.log(df[i]+ 17000)\n",
    "std=StandardScaler()\n",
    "scaled=std.fit_transform(df[df_cols])\n",
    "scaled=pd.DataFrame(scaled,columns=df_cols)"
   ]
  },
  {
   "cell_type": "code",
   "execution_count": 26,
   "metadata": {},
   "outputs": [
    {
     "data": {
      "text/html": [
       "<div>\n",
       "<style scoped>\n",
       "    .dataframe tbody tr th:only-of-type {\n",
       "        vertical-align: middle;\n",
       "    }\n",
       "\n",
       "    .dataframe tbody tr th {\n",
       "        vertical-align: top;\n",
       "    }\n",
       "\n",
       "    .dataframe thead th {\n",
       "        text-align: right;\n",
       "    }\n",
       "</style>\n",
       "<table border=\"1\" class=\"dataframe\">\n",
       "  <thead>\n",
       "    <tr style=\"text-align: right;\">\n",
       "      <th></th>\n",
       "      <th>count</th>\n",
       "      <th>mean</th>\n",
       "      <th>std</th>\n",
       "      <th>min</th>\n",
       "      <th>25%</th>\n",
       "      <th>50%</th>\n",
       "      <th>75%</th>\n",
       "      <th>max</th>\n",
       "    </tr>\n",
       "  </thead>\n",
       "  <tbody>\n",
       "    <tr>\n",
       "      <th>customer_nw_category</th>\n",
       "      <td>28382.0</td>\n",
       "      <td>5.590390e-12</td>\n",
       "      <td>1.000018</td>\n",
       "      <td>-1.855687</td>\n",
       "      <td>-0.341470</td>\n",
       "      <td>-0.341470</td>\n",
       "      <td>1.172658</td>\n",
       "      <td>1.172658</td>\n",
       "    </tr>\n",
       "    <tr>\n",
       "      <th>current_balance</th>\n",
       "      <td>28382.0</td>\n",
       "      <td>2.633633e-15</td>\n",
       "      <td>1.000018</td>\n",
       "      <td>-2.146463</td>\n",
       "      <td>-0.557114</td>\n",
       "      <td>-0.308961</td>\n",
       "      <td>0.186481</td>\n",
       "      <td>18.065872</td>\n",
       "    </tr>\n",
       "    <tr>\n",
       "      <th>previous_month_end_balance</th>\n",
       "      <td>28382.0</td>\n",
       "      <td>2.892694e-16</td>\n",
       "      <td>1.000018</td>\n",
       "      <td>-1.568116</td>\n",
       "      <td>-0.554362</td>\n",
       "      <td>-0.309786</td>\n",
       "      <td>0.175941</td>\n",
       "      <td>18.077109</td>\n",
       "    </tr>\n",
       "    <tr>\n",
       "      <th>average_monthly_balance_prevQ2</th>\n",
       "      <td>28382.0</td>\n",
       "      <td>-5.339149e-17</td>\n",
       "      <td>1.000018</td>\n",
       "      <td>-12.889557</td>\n",
       "      <td>-0.560994</td>\n",
       "      <td>-0.296991</td>\n",
       "      <td>0.191314</td>\n",
       "      <td>18.356859</td>\n",
       "    </tr>\n",
       "    <tr>\n",
       "      <th>average_monthly_balance_prevQ</th>\n",
       "      <td>28382.0</td>\n",
       "      <td>2.936278e-15</td>\n",
       "      <td>1.000018</td>\n",
       "      <td>-0.703208</td>\n",
       "      <td>-0.565652</td>\n",
       "      <td>-0.329808</td>\n",
       "      <td>0.156907</td>\n",
       "      <td>19.022606</td>\n",
       "    </tr>\n",
       "    <tr>\n",
       "      <th>current_month_credit</th>\n",
       "      <td>28382.0</td>\n",
       "      <td>6.162205e-15</td>\n",
       "      <td>1.000018</td>\n",
       "      <td>-0.313972</td>\n",
       "      <td>-0.313907</td>\n",
       "      <td>-0.313841</td>\n",
       "      <td>-0.162843</td>\n",
       "      <td>24.093758</td>\n",
       "    </tr>\n",
       "    <tr>\n",
       "      <th>previous_month_credit</th>\n",
       "      <td>28382.0</td>\n",
       "      <td>3.867589e-15</td>\n",
       "      <td>1.000018</td>\n",
       "      <td>-0.324528</td>\n",
       "      <td>-0.324459</td>\n",
       "      <td>-0.324395</td>\n",
       "      <td>-0.168017</td>\n",
       "      <td>17.606518</td>\n",
       "    </tr>\n",
       "    <tr>\n",
       "      <th>current_month_debit</th>\n",
       "      <td>28382.0</td>\n",
       "      <td>1.820269e-15</td>\n",
       "      <td>1.000018</td>\n",
       "      <td>-0.368291</td>\n",
       "      <td>-0.368206</td>\n",
       "      <td>-0.348832</td>\n",
       "      <td>-0.090490</td>\n",
       "      <td>21.679493</td>\n",
       "    </tr>\n",
       "    <tr>\n",
       "      <th>previous_month_debit</th>\n",
       "      <td>28382.0</td>\n",
       "      <td>4.104473e-15</td>\n",
       "      <td>1.000018</td>\n",
       "      <td>-0.377432</td>\n",
       "      <td>-0.377345</td>\n",
       "      <td>-0.353650</td>\n",
       "      <td>-0.094022</td>\n",
       "      <td>15.975678</td>\n",
       "    </tr>\n",
       "    <tr>\n",
       "      <th>current_month_balance</th>\n",
       "      <td>28382.0</td>\n",
       "      <td>-2.398773e-15</td>\n",
       "      <td>1.000018</td>\n",
       "      <td>-1.663431</td>\n",
       "      <td>-0.557862</td>\n",
       "      <td>-0.312942</td>\n",
       "      <td>0.173589</td>\n",
       "      <td>18.474276</td>\n",
       "    </tr>\n",
       "    <tr>\n",
       "      <th>previous_month_balance</th>\n",
       "      <td>28382.0</td>\n",
       "      <td>2.586107e-15</td>\n",
       "      <td>1.000018</td>\n",
       "      <td>-2.159540</td>\n",
       "      <td>-0.556114</td>\n",
       "      <td>-0.319965</td>\n",
       "      <td>0.166004</td>\n",
       "      <td>18.590760</td>\n",
       "    </tr>\n",
       "  </tbody>\n",
       "</table>\n",
       "</div>"
      ],
      "text/plain": [
       "                                  count          mean       std        min  \\\n",
       "customer_nw_category            28382.0  5.590390e-12  1.000018  -1.855687   \n",
       "current_balance                 28382.0  2.633633e-15  1.000018  -2.146463   \n",
       "previous_month_end_balance      28382.0  2.892694e-16  1.000018  -1.568116   \n",
       "average_monthly_balance_prevQ2  28382.0 -5.339149e-17  1.000018 -12.889557   \n",
       "average_monthly_balance_prevQ   28382.0  2.936278e-15  1.000018  -0.703208   \n",
       "current_month_credit            28382.0  6.162205e-15  1.000018  -0.313972   \n",
       "previous_month_credit           28382.0  3.867589e-15  1.000018  -0.324528   \n",
       "current_month_debit             28382.0  1.820269e-15  1.000018  -0.368291   \n",
       "previous_month_debit            28382.0  4.104473e-15  1.000018  -0.377432   \n",
       "current_month_balance           28382.0 -2.398773e-15  1.000018  -1.663431   \n",
       "previous_month_balance          28382.0  2.586107e-15  1.000018  -2.159540   \n",
       "\n",
       "                                     25%       50%       75%        max  \n",
       "customer_nw_category           -0.341470 -0.341470  1.172658   1.172658  \n",
       "current_balance                -0.557114 -0.308961  0.186481  18.065872  \n",
       "previous_month_end_balance     -0.554362 -0.309786  0.175941  18.077109  \n",
       "average_monthly_balance_prevQ2 -0.560994 -0.296991  0.191314  18.356859  \n",
       "average_monthly_balance_prevQ  -0.565652 -0.329808  0.156907  19.022606  \n",
       "current_month_credit           -0.313907 -0.313841 -0.162843  24.093758  \n",
       "previous_month_credit          -0.324459 -0.324395 -0.168017  17.606518  \n",
       "current_month_debit            -0.368206 -0.348832 -0.090490  21.679493  \n",
       "previous_month_debit           -0.377345 -0.353650 -0.094022  15.975678  \n",
       "current_month_balance          -0.557862 -0.312942  0.173589  18.474276  \n",
       "previous_month_balance         -0.556114 -0.319965  0.166004  18.590760  "
      ]
     },
     "execution_count": 26,
     "metadata": {},
     "output_type": "execute_result"
    }
   ],
   "source": [
    "scaled.describe().T"
   ]
  },
  {
   "cell_type": "code",
   "execution_count": 27,
   "metadata": {},
   "outputs": [],
   "source": [
    "df_new=df.copy()"
   ]
  },
  {
   "cell_type": "code",
   "execution_count": 28,
   "metadata": {},
   "outputs": [],
   "source": [
    "df=df.drop(columns=df_cols,axis=1)"
   ]
  },
  {
   "cell_type": "code",
   "execution_count": 29,
   "metadata": {},
   "outputs": [],
   "source": [
    "df=df.merge(scaled,left_index=True,right_index=True,how='left')"
   ]
  },
  {
   "cell_type": "code",
   "execution_count": 30,
   "metadata": {},
   "outputs": [
    {
     "data": {
      "text/html": [
       "<div>\n",
       "<style scoped>\n",
       "    .dataframe tbody tr th:only-of-type {\n",
       "        vertical-align: middle;\n",
       "    }\n",
       "\n",
       "    .dataframe tbody tr th {\n",
       "        vertical-align: top;\n",
       "    }\n",
       "\n",
       "    .dataframe thead th {\n",
       "        text-align: right;\n",
       "    }\n",
       "</style>\n",
       "<table border=\"1\" class=\"dataframe\">\n",
       "  <thead>\n",
       "    <tr style=\"text-align: right;\">\n",
       "      <th></th>\n",
       "      <th>customer_id</th>\n",
       "      <th>vintage</th>\n",
       "      <th>age</th>\n",
       "      <th>gender</th>\n",
       "      <th>dependents</th>\n",
       "      <th>occupation</th>\n",
       "      <th>city</th>\n",
       "      <th>branch_code</th>\n",
       "      <th>days_since_last_transaction</th>\n",
       "      <th>churn</th>\n",
       "      <th>...</th>\n",
       "      <th>current_balance</th>\n",
       "      <th>previous_month_end_balance</th>\n",
       "      <th>average_monthly_balance_prevQ2</th>\n",
       "      <th>average_monthly_balance_prevQ</th>\n",
       "      <th>current_month_credit</th>\n",
       "      <th>previous_month_credit</th>\n",
       "      <th>current_month_debit</th>\n",
       "      <th>previous_month_debit</th>\n",
       "      <th>current_month_balance</th>\n",
       "      <th>previous_month_balance</th>\n",
       "    </tr>\n",
       "  </thead>\n",
       "  <tbody>\n",
       "    <tr>\n",
       "      <th>0</th>\n",
       "      <td>1</td>\n",
       "      <td>3135</td>\n",
       "      <td>66</td>\n",
       "      <td>0</td>\n",
       "      <td>0.0</td>\n",
       "      <td>self_employed</td>\n",
       "      <td>187.0</td>\n",
       "      <td>755</td>\n",
       "      <td>224.0</td>\n",
       "      <td>0</td>\n",
       "      <td>...</td>\n",
       "      <td>-0.613738</td>\n",
       "      <td>-0.632367</td>\n",
       "      <td>-0.630646</td>\n",
       "      <td>-0.697612</td>\n",
       "      <td>-0.313931</td>\n",
       "      <td>-0.324487</td>\n",
       "      <td>-0.368251</td>\n",
       "      <td>-0.377390</td>\n",
       "      <td>-0.653455</td>\n",
       "      <td>-0.666207</td>\n",
       "    </tr>\n",
       "    <tr>\n",
       "      <th>1</th>\n",
       "      <td>2</td>\n",
       "      <td>310</td>\n",
       "      <td>35</td>\n",
       "      <td>0</td>\n",
       "      <td>0.0</td>\n",
       "      <td>self_employed</td>\n",
       "      <td>1020.0</td>\n",
       "      <td>3214</td>\n",
       "      <td>60.0</td>\n",
       "      <td>0</td>\n",
       "      <td>...</td>\n",
       "      <td>0.011267</td>\n",
       "      <td>0.446458</td>\n",
       "      <td>0.949414</td>\n",
       "      <td>0.317595</td>\n",
       "      <td>-0.313852</td>\n",
       "      <td>-0.324410</td>\n",
       "      <td>0.640986</td>\n",
       "      <td>-0.355677</td>\n",
       "      <td>0.149440</td>\n",
       "      <td>0.455680</td>\n",
       "    </tr>\n",
       "    <tr>\n",
       "      <th>2</th>\n",
       "      <td>4</td>\n",
       "      <td>2356</td>\n",
       "      <td>31</td>\n",
       "      <td>0</td>\n",
       "      <td>0.0</td>\n",
       "      <td>salaried</td>\n",
       "      <td>146.0</td>\n",
       "      <td>41</td>\n",
       "      <td>999.0</td>\n",
       "      <td>0</td>\n",
       "      <td>...</td>\n",
       "      <td>-0.209651</td>\n",
       "      <td>0.057975</td>\n",
       "      <td>-0.388637</td>\n",
       "      <td>-0.108263</td>\n",
       "      <td>-0.313841</td>\n",
       "      <td>-0.324400</td>\n",
       "      <td>0.729825</td>\n",
       "      <td>-0.321607</td>\n",
       "      <td>-0.068597</td>\n",
       "      <td>-0.066642</td>\n",
       "    </tr>\n",
       "    <tr>\n",
       "      <th>3</th>\n",
       "      <td>5</td>\n",
       "      <td>478</td>\n",
       "      <td>90</td>\n",
       "      <td>-1</td>\n",
       "      <td>0.0</td>\n",
       "      <td>self_employed</td>\n",
       "      <td>1020.0</td>\n",
       "      <td>582</td>\n",
       "      <td>147.0</td>\n",
       "      <td>1</td>\n",
       "      <td>...</td>\n",
       "      <td>-0.470836</td>\n",
       "      <td>-0.488530</td>\n",
       "      <td>-0.712855</td>\n",
       "      <td>-0.582976</td>\n",
       "      <td>-0.313872</td>\n",
       "      <td>-0.324429</td>\n",
       "      <td>-0.368193</td>\n",
       "      <td>0.060593</td>\n",
       "      <td>-0.506570</td>\n",
       "      <td>-0.628056</td>\n",
       "    </tr>\n",
       "    <tr>\n",
       "      <th>4</th>\n",
       "      <td>6</td>\n",
       "      <td>2531</td>\n",
       "      <td>42</td>\n",
       "      <td>0</td>\n",
       "      <td>2.0</td>\n",
       "      <td>self_employed</td>\n",
       "      <td>1494.0</td>\n",
       "      <td>388</td>\n",
       "      <td>58.0</td>\n",
       "      <td>1</td>\n",
       "      <td>...</td>\n",
       "      <td>-0.708214</td>\n",
       "      <td>-0.642441</td>\n",
       "      <td>-0.554058</td>\n",
       "      <td>-0.663399</td>\n",
       "      <td>-0.313902</td>\n",
       "      <td>-0.175104</td>\n",
       "      <td>-0.245463</td>\n",
       "      <td>-0.057927</td>\n",
       "      <td>-0.708257</td>\n",
       "      <td>-0.626732</td>\n",
       "    </tr>\n",
       "  </tbody>\n",
       "</table>\n",
       "<p>5 rows × 26 columns</p>\n",
       "</div>"
      ],
      "text/plain": [
       "   customer_id  vintage  age  gender  dependents     occupation    city  \\\n",
       "0            1     3135   66       0         0.0  self_employed   187.0   \n",
       "1            2      310   35       0         0.0  self_employed  1020.0   \n",
       "2            4     2356   31       0         0.0       salaried   146.0   \n",
       "3            5      478   90      -1         0.0  self_employed  1020.0   \n",
       "4            6     2531   42       0         2.0  self_employed  1494.0   \n",
       "\n",
       "   branch_code  days_since_last_transaction  churn  ...  current_balance  \\\n",
       "0          755                        224.0      0  ...        -0.613738   \n",
       "1         3214                         60.0      0  ...         0.011267   \n",
       "2           41                        999.0      0  ...        -0.209651   \n",
       "3          582                        147.0      1  ...        -0.470836   \n",
       "4          388                         58.0      1  ...        -0.708214   \n",
       "\n",
       "   previous_month_end_balance  average_monthly_balance_prevQ2  \\\n",
       "0                   -0.632367                       -0.630646   \n",
       "1                    0.446458                        0.949414   \n",
       "2                    0.057975                       -0.388637   \n",
       "3                   -0.488530                       -0.712855   \n",
       "4                   -0.642441                       -0.554058   \n",
       "\n",
       "   average_monthly_balance_prevQ  current_month_credit  previous_month_credit  \\\n",
       "0                      -0.697612             -0.313931              -0.324487   \n",
       "1                       0.317595             -0.313852              -0.324410   \n",
       "2                      -0.108263             -0.313841              -0.324400   \n",
       "3                      -0.582976             -0.313872              -0.324429   \n",
       "4                      -0.663399             -0.313902              -0.175104   \n",
       "\n",
       "   current_month_debit  previous_month_debit  current_month_balance  \\\n",
       "0            -0.368251             -0.377390              -0.653455   \n",
       "1             0.640986             -0.355677               0.149440   \n",
       "2             0.729825             -0.321607              -0.068597   \n",
       "3            -0.368193              0.060593              -0.506570   \n",
       "4            -0.245463             -0.057927              -0.708257   \n",
       "\n",
       "   previous_month_balance  \n",
       "0               -0.666207  \n",
       "1                0.455680  \n",
       "2               -0.066642  \n",
       "3               -0.628056  \n",
       "4               -0.626732  \n",
       "\n",
       "[5 rows x 26 columns]"
      ]
     },
     "execution_count": 30,
     "metadata": {},
     "output_type": "execute_result"
    }
   ],
   "source": [
    "df.head()"
   ]
  },
  {
   "cell_type": "code",
   "execution_count": 31,
   "metadata": {},
   "outputs": [],
   "source": [
    "Y=df.churn\n",
    "X=df.drop(['churn','customer_id'],axis=1,inplace=True)"
   ]
  },
  {
   "cell_type": "code",
   "execution_count": 32,
   "metadata": {},
   "outputs": [],
   "source": [
    "#Baseline columns we are using here for logistic regression model that we'll build found them by EDA analysis\n",
    "baseline_cols=['current_month_debit','previous_month_debit','current_month_balance','previous_month_balance',\n",
    "               'vintage','occupation_retired', 'occupation_salaried', 'occupation_self_employed',\n",
    "                'occupation_student'\n",
    "              ]"
   ]
  },
  {
   "cell_type": "code",
   "execution_count": 33,
   "metadata": {},
   "outputs": [],
   "source": [
    "df_base=df[baseline_cols]#features, labels:Y\n"
   ]
  },
  {
   "cell_type": "code",
   "execution_count": 34,
   "metadata": {},
   "outputs": [],
   "source": [
    "X_train, X_test, y_train, y_test = train_test_split(\n",
    "    df_base, Y, test_size=1/3, random_state=11)\n"
   ]
  },
  {
   "cell_type": "code",
   "execution_count": 35,
   "metadata": {},
   "outputs": [],
   "source": [
    "model=LogisticRegression()\n",
    "model.fit(X_train,y_train)\n",
    "pred=model.predict_proba(X_test)[:,1]"
   ]
  },
  {
   "cell_type": "code",
   "execution_count": 36,
   "metadata": {},
   "outputs": [
    {
     "data": {
      "text/plain": [
       "array([0.20833743, 0.0931883 , 0.15864667, ..., 0.13199333, 0.45223907,\n",
       "       0.26092949])"
      ]
     },
     "execution_count": 36,
     "metadata": {},
     "output_type": "execute_result"
    }
   ],
   "source": [
    "pred"
   ]
  },
  {
   "cell_type": "code",
   "execution_count": 37,
   "metadata": {},
   "outputs": [
    {
     "name": "stdout",
     "output_type": "stream",
     "text": [
      "Accuracy of model is 0.82\n"
     ]
    }
   ],
   "source": [
    "print(\"Accuracy of model is %s\" %(round(model.score(X_test,y_test),2)))"
   ]
  },
  {
   "cell_type": "code",
   "execution_count": 38,
   "metadata": {},
   "outputs": [
    {
     "name": "stdout",
     "output_type": "stream",
     "text": [
      "(9461,)\n",
      "(28382,)\n",
      "(9461,)\n",
      "(9461, 9)\n"
     ]
    }
   ],
   "source": [
    "print(pred.shape)\n",
    "print(Y.shape)\n",
    "print(y_test.shape)\n",
    "print(X_test.shape)"
   ]
  },
  {
   "cell_type": "code",
   "execution_count": 39,
   "metadata": {},
   "outputs": [
    {
     "data": {
      "text/html": [
       "<div>\n",
       "<style scoped>\n",
       "    .dataframe tbody tr th:only-of-type {\n",
       "        vertical-align: middle;\n",
       "    }\n",
       "\n",
       "    .dataframe tbody tr th {\n",
       "        vertical-align: top;\n",
       "    }\n",
       "\n",
       "    .dataframe thead th {\n",
       "        text-align: right;\n",
       "    }\n",
       "</style>\n",
       "<table border=\"1\" class=\"dataframe\">\n",
       "  <thead>\n",
       "    <tr style=\"text-align: right;\">\n",
       "      <th></th>\n",
       "      <th>Actual</th>\n",
       "      <th>Predicted_Probab</th>\n",
       "    </tr>\n",
       "  </thead>\n",
       "  <tbody>\n",
       "    <tr>\n",
       "      <th>24249</th>\n",
       "      <td>1</td>\n",
       "      <td>0.208337</td>\n",
       "    </tr>\n",
       "    <tr>\n",
       "      <th>19731</th>\n",
       "      <td>0</td>\n",
       "      <td>0.093188</td>\n",
       "    </tr>\n",
       "    <tr>\n",
       "      <th>5818</th>\n",
       "      <td>1</td>\n",
       "      <td>0.158647</td>\n",
       "    </tr>\n",
       "    <tr>\n",
       "      <th>22161</th>\n",
       "      <td>0</td>\n",
       "      <td>0.194140</td>\n",
       "    </tr>\n",
       "    <tr>\n",
       "      <th>24764</th>\n",
       "      <td>0</td>\n",
       "      <td>0.149559</td>\n",
       "    </tr>\n",
       "  </tbody>\n",
       "</table>\n",
       "</div>"
      ],
      "text/plain": [
       "       Actual  Predicted_Probab\n",
       "24249       1          0.208337\n",
       "19731       0          0.093188\n",
       "5818        1          0.158647\n",
       "22161       0          0.194140\n",
       "24764       0          0.149559"
      ]
     },
     "execution_count": 39,
     "metadata": {},
     "output_type": "execute_result"
    }
   ],
   "source": [
    "predict_data=pd.DataFrame()\n",
    "predict_data['Actual']=y_test\n",
    "predict_data['Predicted_Probab']=pred\n",
    "predict_data.head()"
   ]
  },
  {
   "cell_type": "code",
   "execution_count": 40,
   "metadata": {},
   "outputs": [
    {
     "data": {
      "text/html": [
       "<div>\n",
       "<style scoped>\n",
       "    .dataframe tbody tr th:only-of-type {\n",
       "        vertical-align: middle;\n",
       "    }\n",
       "\n",
       "    .dataframe tbody tr th {\n",
       "        vertical-align: top;\n",
       "    }\n",
       "\n",
       "    .dataframe thead th {\n",
       "        text-align: right;\n",
       "    }\n",
       "</style>\n",
       "<table border=\"1\" class=\"dataframe\">\n",
       "  <thead>\n",
       "    <tr style=\"text-align: right;\">\n",
       "      <th></th>\n",
       "      <th>Actual</th>\n",
       "      <th>Predicted_Probab</th>\n",
       "      <th>transformed_data</th>\n",
       "    </tr>\n",
       "  </thead>\n",
       "  <tbody>\n",
       "    <tr>\n",
       "      <th>24249</th>\n",
       "      <td>1</td>\n",
       "      <td>0.208337</td>\n",
       "      <td>0</td>\n",
       "    </tr>\n",
       "    <tr>\n",
       "      <th>19731</th>\n",
       "      <td>0</td>\n",
       "      <td>0.093188</td>\n",
       "      <td>0</td>\n",
       "    </tr>\n",
       "    <tr>\n",
       "      <th>5818</th>\n",
       "      <td>1</td>\n",
       "      <td>0.158647</td>\n",
       "      <td>0</td>\n",
       "    </tr>\n",
       "    <tr>\n",
       "      <th>22161</th>\n",
       "      <td>0</td>\n",
       "      <td>0.194140</td>\n",
       "      <td>0</td>\n",
       "    </tr>\n",
       "    <tr>\n",
       "      <th>24764</th>\n",
       "      <td>0</td>\n",
       "      <td>0.149559</td>\n",
       "      <td>0</td>\n",
       "    </tr>\n",
       "  </tbody>\n",
       "</table>\n",
       "</div>"
      ],
      "text/plain": [
       "       Actual  Predicted_Probab  transformed_data\n",
       "24249       1          0.208337                 0\n",
       "19731       0          0.093188                 0\n",
       "5818        1          0.158647                 0\n",
       "22161       0          0.194140                 0\n",
       "24764       0          0.149559                 0"
      ]
     },
     "execution_count": 40,
     "metadata": {},
     "output_type": "execute_result"
    }
   ],
   "source": [
    "#Let put a threshold of 0.5, <0.5=>0, >0.5=>1\n",
    "predict_data['transformed_data']=np.where(predict_data['Predicted_Probab']>0.5,1,0)\n",
    "predict_data.head()\n",
    "               \n",
    "               "
   ]
  },
  {
   "cell_type": "code",
   "execution_count": 41,
   "metadata": {},
   "outputs": [
    {
     "data": {
      "text/html": [
       "<div>\n",
       "<style scoped>\n",
       "    .dataframe tbody tr th:only-of-type {\n",
       "        vertical-align: middle;\n",
       "    }\n",
       "\n",
       "    .dataframe tbody tr th {\n",
       "        vertical-align: top;\n",
       "    }\n",
       "\n",
       "    .dataframe thead th {\n",
       "        text-align: right;\n",
       "    }\n",
       "</style>\n",
       "<table border=\"1\" class=\"dataframe\">\n",
       "  <thead>\n",
       "    <tr style=\"text-align: right;\">\n",
       "      <th></th>\n",
       "      <th>Actual</th>\n",
       "      <th>Predicted_Probab</th>\n",
       "      <th>transformed_data</th>\n",
       "      <th>threshold</th>\n",
       "    </tr>\n",
       "  </thead>\n",
       "  <tbody>\n",
       "    <tr>\n",
       "      <th>24249</th>\n",
       "      <td>1</td>\n",
       "      <td>0.208337</td>\n",
       "      <td>0</td>\n",
       "      <td>FP</td>\n",
       "    </tr>\n",
       "    <tr>\n",
       "      <th>19731</th>\n",
       "      <td>0</td>\n",
       "      <td>0.093188</td>\n",
       "      <td>0</td>\n",
       "      <td>TN</td>\n",
       "    </tr>\n",
       "    <tr>\n",
       "      <th>5818</th>\n",
       "      <td>1</td>\n",
       "      <td>0.158647</td>\n",
       "      <td>0</td>\n",
       "      <td>FP</td>\n",
       "    </tr>\n",
       "    <tr>\n",
       "      <th>22161</th>\n",
       "      <td>0</td>\n",
       "      <td>0.194140</td>\n",
       "      <td>0</td>\n",
       "      <td>TN</td>\n",
       "    </tr>\n",
       "    <tr>\n",
       "      <th>24764</th>\n",
       "      <td>0</td>\n",
       "      <td>0.149559</td>\n",
       "      <td>0</td>\n",
       "      <td>TN</td>\n",
       "    </tr>\n",
       "  </tbody>\n",
       "</table>\n",
       "</div>"
      ],
      "text/plain": [
       "       Actual  Predicted_Probab  transformed_data threshold\n",
       "24249       1          0.208337                 0        FP\n",
       "19731       0          0.093188                 0        TN\n",
       "5818        1          0.158647                 0        FP\n",
       "22161       0          0.194140                 0        TN\n",
       "24764       0          0.149559                 0        TN"
      ]
     },
     "execution_count": 41,
     "metadata": {},
     "output_type": "execute_result"
    }
   ],
   "source": [
    "conditions=[(predict_data['transformed_data']==1)&( predict_data['Actual']==1),\n",
    "             (predict_data['transformed_data']==0)&( predict_data['Actual']==0),\n",
    "            (predict_data['transformed_data']<predict_data['Actual']),\n",
    "            (predict_data['transformed_data']>predict_data['Actual'])\n",
    "    \n",
    "    \n",
    "]\n",
    "values=['TP','TN','FP','FN']\n",
    "predict_data['threshold']=np.select(conditions,values)\n",
    "predict_data.head()\n"
   ]
  },
  {
   "cell_type": "code",
   "execution_count": 42,
   "metadata": {},
   "outputs": [],
   "source": [
    "#predict_data.drop('cm',axis=1,inplace=True)"
   ]
  },
  {
   "cell_type": "code",
   "execution_count": 43,
   "metadata": {},
   "outputs": [
    {
     "name": "stdout",
     "output_type": "stream",
     "text": [
      "TN    7584\n",
      "FP    1566\n",
      "TP     198\n",
      "FN     113\n",
      "Name: threshold, dtype: int64\n"
     ]
    }
   ],
   "source": [
    "cm=predict_data.threshold.value_counts()\n",
    "print(cm)"
   ]
  },
  {
   "cell_type": "code",
   "execution_count": 44,
   "metadata": {},
   "outputs": [
    {
     "data": {
      "text/plain": [
       "array([7584, 1566,  198,  113], dtype=int64)"
      ]
     },
     "execution_count": 44,
     "metadata": {},
     "output_type": "execute_result"
    }
   ],
   "source": [
    "cm.values"
   ]
  },
  {
   "cell_type": "code",
   "execution_count": 45,
   "metadata": {},
   "outputs": [
    {
     "data": {
      "text/plain": [
       "0.36"
      ]
     },
     "execution_count": 45,
     "metadata": {},
     "output_type": "execute_result"
    }
   ],
   "source": [
    "precision=cm.values[3]/(cm.values[3]+cm.values[2])\n",
    "round(precision,2)"
   ]
  },
  {
   "cell_type": "code",
   "execution_count": 46,
   "metadata": {},
   "outputs": [
    {
     "data": {
      "text/plain": [
       "0.5"
      ]
     },
     "execution_count": 46,
     "metadata": {},
     "output_type": "execute_result"
    }
   ],
   "source": [
    "recall=cm.values[3]/(cm.values[3]+cm.values[-1])\n",
    "round(recall,2)"
   ]
  },
  {
   "cell_type": "code",
   "execution_count": 88,
   "metadata": {},
   "outputs": [
    {
     "data": {
      "image/png": "[encoded data removed]",
      "text/plain": [
       "<Figure size 432x288 with 1 Axes>"
      ]
     },
     "metadata": {
      "needs_background": "light"
     },
     "output_type": "display_data"
    },
    {
     "name": "stdout",
     "output_type": "stream",
     "text": [
      "0.743015651518939\n"
     ]
    }
   ],
   "source": [
    "from sklearn.metrics import roc_curve\n",
    "fpr,tpr,_=roc_curve(y_test,pred)\n",
    "auc=roc_auc_score(y_test,pred)\n",
    "plt.plot(fpr,tpr,label='VALIDATION AUC-ROC'+str(auc))\n",
    "x=np.linspace(0,1,1000)\n",
    "plt.plot(x,x,linestyle='-')\n",
    "plt.xlabel('False positive rate')\n",
    "plt.ylabel('True positive rate')\n",
    "plt.legend(loc=4)\n",
    "plt.show()\n",
    "print(auc)"
   ]
  },
  {
   "cell_type": "code",
   "execution_count": 48,
   "metadata": {},
   "outputs": [
    {
     "data": {
      "image/png": "[encoded data removed]",
      "text/plain": [
       "<Figure size 216x432 with 2 Axes>"
      ]
     },
     "metadata": {
      "needs_background": "light"
     },
     "output_type": "display_data"
    }
   ],
   "source": [
    "#confussion matrix\n",
    "pred_val=model.predict(X_test)\n",
    "cm=confusion_matrix(y_test,pred_val)\n",
    "def plot_confussion_matrix(cm,normalized=True,cmap='bone'):\n",
    "    plt.figure(figsize=[3,6])\n",
    "    norm_cm=cm\n",
    "    if normalized:\n",
    "        norm_cm=cm.astype('float')/cm.sum(axis=1)[:,np.newaxis]\n",
    "        sns.heatmap(norm_cm,annot=cm,fmt='g',xticklabels=['Predicted :No','Predicted: Yes'],yticklabels=['Actual :No','Actual:Yes'])\n",
    "plot_confussion_matrix(cm,['No','Yes'])   "
   ]
  },
  {
   "cell_type": "code",
   "execution_count": 49,
   "metadata": {},
   "outputs": [
    {
     "data": {
      "text/plain": [
       "0.11224489795918367"
      ]
     },
     "execution_count": 49,
     "metadata": {},
     "output_type": "execute_result"
    }
   ],
   "source": [
    "recall_score(y_test,pred_val)"
   ]
  },
  {
   "cell_type": "code",
   "execution_count": 50,
   "metadata": {},
   "outputs": [
    {
     "name": "stdout",
     "output_type": "stream",
     "text": [
      "              precision    recall  f1-score   support\n",
      "\n",
      "           0       0.83      0.99      0.90      7697\n",
      "           1       0.64      0.11      0.19      1764\n",
      "\n",
      "   micro avg       0.82      0.82      0.82      9461\n",
      "   macro avg       0.73      0.55      0.55      9461\n",
      "weighted avg       0.79      0.82      0.77      9461\n",
      "\n"
     ]
    }
   ],
   "source": [
    "from sklearn.metrics import classification_report as rep\n",
    "print(rep( y_test , pred_val ))"
   ]
  },
  {
   "cell_type": "markdown",
   "metadata": {},
   "source": [
    "## CROSS VALIDATION"
   ]
  },
  {
   "cell_type": "code",
   "execution_count": 70,
   "metadata": {},
   "outputs": [
    {
     "name": "stdout",
     "output_type": "stream",
     "text": [
      "train: [0 3 4 5], test: [1 2]\n",
      "train: [0.10 0.40 0.50 0.60], test: [0.20 0.30]\n",
      "train: [1 2 3 5], test: [0 4]\n",
      "train: [0.20 0.30 0.40 0.60], test: [0.10 0.50]\n",
      "train: [0 1 2 4], test: [3 5]\n",
      "train: [0.10 0.20 0.30 0.50], test: [0.40 0.60]\n"
     ]
    }
   ],
   "source": [
    "# scikit-learn k-fold cross-validation\n",
    "from numpy import array\n",
    "from sklearn.model_selection import KFold\n",
    "# data sample\n",
    "data = array([0.1, 0.2, 0.3, 0.4, 0.5, 0.6])\n",
    "# prepare cross validation\n",
    "kfold = KFold(3, True, 1)\n",
    "# enumerate splits\n",
    "for train, test in kfold.split(data):\n",
    "    print('train: %s, test: %s' % (train, test))\n",
    "    \n",
    "    print('train: %s, test: %s' % (data[train], data[test]))"
   ]
  },
  {
   "cell_type": "code",
   "execution_count": 82,
   "metadata": {},
   "outputs": [
    {
     "name": "stdout",
     "output_type": "stream",
     "text": [
      "[0.5507844003699517, 0.5522307059911623, 0.5452277421816413, 0.543394440643625, 0.5459645164261188]\n",
      "Mean score is: 0.5475203611224998\n"
     ]
    }
   ],
   "source": [
    "#WE are using cross validation with limited data only some columns chosen from entire dataset\n",
    "i=1\n",
    "cv=[]\n",
    "kf=StratifiedKFold(n_splits=5,random_state=12,shuffle=True)\n",
    "for train,test in kf.split(df_base,Y):\n",
    "    x_train,x_test=df_base.loc[train],df_base.loc[test]\n",
    "    y_train,y_test=Y.loc[train],Y.loc[test]\n",
    "    m=LogisticRegression()\n",
    "    m.fit(x_train,y_train)\n",
    "    pred=m.predict_proba(x_test)[:,1]\n",
    "    pp=[]\n",
    "    #converting probabilities in 0,1 uding threshold\n",
    "    for j in pred:\n",
    "        if j>0.5:\n",
    "            pp.append(1)\n",
    "        else:\n",
    "            pp.append(0)\n",
    "            \n",
    "    predicted_values=pp\n",
    "    roc_auc_sc=roc_auc_score(y_test,predicted_values)\n",
    "    cv.append(roc_auc_sc)\n",
    "    i+=1\n",
    "print(cv)\n",
    "print(\"Mean score is:\" ,sum(cv)/len(cv))  \n",
    "            \n",
    "    "
   ]
  },
  {
   "cell_type": "code",
   "execution_count": 102,
   "metadata": {},
   "outputs": [],
   "source": [
    "#Let convert above code in a function\n",
    "def cv_score(model,features,target,split,thres):\n",
    "    i=1\n",
    "    cv=[]\n",
    "    kf=StratifiedKFold(n_splits=split,random_state=12,shuffle=True)\n",
    "    for train,test in kf.split(features,target):\n",
    "        print('{} of kfold {}'.format(i,kf.n_splits))\n",
    "        x_train,x_test=features.loc[train],features.loc[test]\n",
    "        y_train,y_test=target.loc[train],target.loc[test]\n",
    "        m=model\n",
    "        m.fit(x_train,y_train)\n",
    "        pred=m.predict_proba(x_test)[:,1]\n",
    "        pp=[]\n",
    "        #converting probabilities in 0,1 uding threshold\n",
    "        for j in pred:\n",
    "            if j>thres:\n",
    "                pp.append(1)\n",
    "            else:\n",
    "                pp.append(0)\n",
    "\n",
    "        predicted_values=pp\n",
    "        roc_auc_sc=roc_auc_score(y_test,predicted_values)\n",
    "        cv.append(roc_auc_sc)\n",
    "        i+=1\n",
    "        print('RocAuc score {} '.format(roc_auc_sc))\n",
    "    \n",
    "    return cv\n",
    "    "
   ]
  },
  {
   "cell_type": "code",
   "execution_count": 112,
   "metadata": {},
   "outputs": [
    {
     "name": "stdout",
     "output_type": "stream",
     "text": [
      "1 of kfold 5\n",
      "RocAuc score 0.5507844003699517 \n",
      "2 of kfold 5\n",
      "RocAuc score 0.5522307059911623 \n",
      "3 of kfold 5\n",
      "RocAuc score 0.5452277421816413 \n",
      "4 of kfold 5\n",
      "RocAuc score 0.543394440643625 \n",
      "5 of kfold 5\n",
      "RocAuc score 0.5459645164261188 \n"
     ]
    }
   ],
   "source": [
    "baseline_model=cv_score(LogisticRegression(),df_base,Y,5,0.5) # Model with baseline columns"
   ]
  },
  {
   "cell_type": "markdown",
   "metadata": {},
   "source": [
    "## REVERSE FEATURE ELEMINATION"
   ]
  },
  {
   "cell_type": "code",
   "execution_count": 83,
   "metadata": {},
   "outputs": [],
   "source": [
    "from sklearn.feature_selection import RFE"
   ]
  },
  {
   "cell_type": "code",
   "execution_count": 84,
   "metadata": {},
   "outputs": [
    {
     "data": {
      "text/plain": [
       "RFE(estimator=LogisticRegression(C=1.0, class_weight=None, dual=False, fit_intercept=True,\n",
       "          intercept_scaling=1, max_iter=100, multi_class='warn',\n",
       "          n_jobs=None, penalty='l2', random_state=None, solver='warn',\n",
       "          tol=0.0001, verbose=0, warm_start=False),\n",
       "  n_features_to_select=1, step=1, verbose=0)"
      ]
     },
     "execution_count": 84,
     "metadata": {},
     "output_type": "execute_result"
    }
   ],
   "source": [
    "model= LogisticRegression()\n",
    "rfe=RFE(model,n_features_to_select=1,step=1)\n",
    "rfe.fit(df_base,Y)"
   ]
  },
  {
   "cell_type": "code",
   "execution_count": 85,
   "metadata": {},
   "outputs": [],
   "source": [
    "ranking_df=pd.DataFrame()\n",
    "ranking_df['feature_name']=df_base.columns\n",
    "ranking_df['Rank']=rfe.ranking_"
   ]
  },
  {
   "cell_type": "code",
   "execution_count": 86,
   "metadata": {},
   "outputs": [],
   "source": [
    "ranked=ranking_df.sort_values(by=['Rank'])"
   ]
  },
  {
   "cell_type": "code",
   "execution_count": 87,
   "metadata": {},
   "outputs": [
    {
     "data": {
      "text/html": [
       "<div>\n",
       "<style scoped>\n",
       "    .dataframe tbody tr th:only-of-type {\n",
       "        vertical-align: middle;\n",
       "    }\n",
       "\n",
       "    .dataframe tbody tr th {\n",
       "        vertical-align: top;\n",
       "    }\n",
       "\n",
       "    .dataframe thead th {\n",
       "        text-align: right;\n",
       "    }\n",
       "</style>\n",
       "<table border=\"1\" class=\"dataframe\">\n",
       "  <thead>\n",
       "    <tr style=\"text-align: right;\">\n",
       "      <th></th>\n",
       "      <th>feature_name</th>\n",
       "      <th>Rank</th>\n",
       "    </tr>\n",
       "  </thead>\n",
       "  <tbody>\n",
       "    <tr>\n",
       "      <th>2</th>\n",
       "      <td>current_month_balance</td>\n",
       "      <td>1</td>\n",
       "    </tr>\n",
       "    <tr>\n",
       "      <th>3</th>\n",
       "      <td>previous_month_balance</td>\n",
       "      <td>2</td>\n",
       "    </tr>\n",
       "    <tr>\n",
       "      <th>0</th>\n",
       "      <td>current_month_debit</td>\n",
       "      <td>3</td>\n",
       "    </tr>\n",
       "    <tr>\n",
       "      <th>7</th>\n",
       "      <td>occupation_self_employed</td>\n",
       "      <td>4</td>\n",
       "    </tr>\n",
       "    <tr>\n",
       "      <th>5</th>\n",
       "      <td>occupation_retired</td>\n",
       "      <td>5</td>\n",
       "    </tr>\n",
       "    <tr>\n",
       "      <th>1</th>\n",
       "      <td>previous_month_debit</td>\n",
       "      <td>6</td>\n",
       "    </tr>\n",
       "    <tr>\n",
       "      <th>8</th>\n",
       "      <td>occupation_student</td>\n",
       "      <td>7</td>\n",
       "    </tr>\n",
       "    <tr>\n",
       "      <th>6</th>\n",
       "      <td>occupation_salaried</td>\n",
       "      <td>8</td>\n",
       "    </tr>\n",
       "    <tr>\n",
       "      <th>4</th>\n",
       "      <td>vintage</td>\n",
       "      <td>9</td>\n",
       "    </tr>\n",
       "  </tbody>\n",
       "</table>\n",
       "</div>"
      ],
      "text/plain": [
       "               feature_name  Rank\n",
       "2     current_month_balance     1\n",
       "3    previous_month_balance     2\n",
       "0       current_month_debit     3\n",
       "7  occupation_self_employed     4\n",
       "5        occupation_retired     5\n",
       "1      previous_month_debit     6\n",
       "8        occupation_student     7\n",
       "6       occupation_salaried     8\n",
       "4                   vintage     9"
      ]
     },
     "execution_count": 87,
     "metadata": {},
     "output_type": "execute_result"
    }
   ],
   "source": [
    "ranked"
   ]
  },
  {
   "cell_type": "code",
   "execution_count": 118,
   "metadata": {},
   "outputs": [
    {
     "data": {
      "text/plain": [
       "2       current_month_balance\n",
       "3      previous_month_balance\n",
       "0         current_month_debit\n",
       "7    occupation_self_employed\n",
       "5          occupation_retired\n",
       "1        previous_month_debit\n",
       "Name: feature_name, dtype: object"
      ]
     },
     "execution_count": 118,
     "metadata": {},
     "output_type": "execute_result"
    }
   ],
   "source": [
    "important_features=ranked.iloc[0:6,0]\n",
    "important_features"
   ]
  },
  {
   "cell_type": "code",
   "execution_count": null,
   "metadata": {},
   "outputs": [],
   "source": []
  },
  {
   "cell_type": "code",
   "execution_count": 119,
   "metadata": {},
   "outputs": [
    {
     "name": "stdout",
     "output_type": "stream",
     "text": [
      "1 of kfold 5\n",
      "RocAuc score 0.5477164731271196 \n",
      "2 of kfold 5\n",
      "RocAuc score 0.5499623882437571 \n",
      "3 of kfold 5\n",
      "RocAuc score 0.5476695403054982 \n",
      "4 of kfold 5\n",
      "RocAuc score 0.5486653367452998 \n",
      "5 of kfold 5\n",
      "RocAuc score 0.5420767166182063 \n"
     ]
    }
   ],
   "source": [
    "#let build a model with 5 most importnat ranked columns\n",
    "ranked_model=cv_score(LogisticRegression(),df[important_features],Y,5,0.5)"
   ]
  },
  {
   "cell_type": "code",
   "execution_count": 120,
   "metadata": {},
   "outputs": [
    {
     "data": {
      "text/plain": [
       "<matplotlib.axes._subplots.AxesSubplot at 0x1057ae80>"
      ]
     },
     "execution_count": 120,
     "metadata": {},
     "output_type": "execute_result"
    },
    {
     "data": {
      "image/png": "[encoded data removed]",
      "text/plain": [
       "<Figure size 432x288 with 1 Axes>"
      ]
     },
     "metadata": {
      "needs_background": "light"
     },
     "output_type": "display_data"
    }
   ],
   "source": [
    "#let visualize differences between both models\n",
    "\n",
    "results_df=pd.DataFrame({'baseline': baseline_model,'ranked':ranked_model})\n",
    "results_df.plot(y=['baseline','ranked'],kind='bar')"
   ]
  },
  {
   "cell_type": "markdown",
   "metadata": {},
   "source": [
    "## LOGISTIC REGRESSION FROM STATSMODELS"
   ]
  },
  {
   "cell_type": "code",
   "execution_count": null,
   "metadata": {},
   "outputs": [],
   "source": []
  },
  {
   "cell_type": "code",
   "execution_count": 51,
   "metadata": {},
   "outputs": [],
   "source": [
    "import statsmodels.api as sm"
   ]
  },
  {
   "cell_type": "code",
   "execution_count": 52,
   "metadata": {},
   "outputs": [
    {
     "data": {
      "text/plain": [
       "' \\ndf_base   #independant\\nY                # dependant variable\\n'"
      ]
     },
     "execution_count": 52,
     "metadata": {},
     "output_type": "execute_result"
    }
   ],
   "source": [
    "#From above we can take dependant and independant variables\n",
    "\"\"\" \n",
    "df_base   #independant\n",
    "Y                # dependant variable\n",
    "\"\"\""
   ]
  },
  {
   "cell_type": "code",
   "execution_count": 53,
   "metadata": {},
   "outputs": [
    {
     "name": "stdout",
     "output_type": "stream",
     "text": [
      "Optimization terminated successfully.\n",
      "         Current function value: 0.432487\n",
      "         Iterations 6\n"
     ]
    }
   ],
   "source": [
    "x=sm.add_constant(X_train)\n",
    "reg_log=sm.Logit(y_train,x)\n",
    "res=reg_log.fit()"
   ]
  },
  {
   "cell_type": "code",
   "execution_count": 54,
   "metadata": {},
   "outputs": [
    {
     "data": {
      "text/html": [
       "<table class=\"simpletable\">\n",
       "<caption>Logit Regression Results</caption>\n",
       "<tr>\n",
       "  <th>Dep. Variable:</th>       <td>churn</td>      <th>  No. Observations:  </th>  <td> 18921</td> \n",
       "</tr>\n",
       "<tr>\n",
       "  <th>Model:</th>               <td>Logit</td>      <th>  Df Residuals:      </th>  <td> 18911</td> \n",
       "</tr>\n",
       "<tr>\n",
       "  <th>Method:</th>               <td>MLE</td>       <th>  Df Model:          </th>  <td>     9</td> \n",
       "</tr>\n",
       "<tr>\n",
       "  <th>Date:</th>          <td>Wed, 09 Dec 2020</td> <th>  Pseudo R-squ.:     </th>  <td>0.09625</td>\n",
       "</tr>\n",
       "<tr>\n",
       "  <th>Time:</th>              <td>15:11:40</td>     <th>  Log-Likelihood:    </th> <td> -8183.1</td>\n",
       "</tr>\n",
       "<tr>\n",
       "  <th>converged:</th>           <td>True</td>       <th>  LL-Null:           </th> <td> -9054.6</td>\n",
       "</tr>\n",
       "<tr>\n",
       "  <th> </th>                      <td> </td>        <th>  LLR p-value:       </th>  <td> 0.000</td> \n",
       "</tr>\n",
       "</table>\n",
       "<table class=\"simpletable\">\n",
       "<tr>\n",
       "              <td></td>                <th>coef</th>     <th>std err</th>      <th>z</th>      <th>P>|z|</th>  <th>[0.025</th>    <th>0.975]</th>  \n",
       "</tr>\n",
       "<tr>\n",
       "  <th>const</th>                    <td>   -1.6815</td> <td>    0.616</td> <td>   -2.731</td> <td> 0.006</td> <td>   -2.888</td> <td>   -0.475</td>\n",
       "</tr>\n",
       "<tr>\n",
       "  <th>current_month_debit</th>      <td>    0.4940</td> <td>    0.023</td> <td>   21.742</td> <td> 0.000</td> <td>    0.449</td> <td>    0.539</td>\n",
       "</tr>\n",
       "<tr>\n",
       "  <th>previous_month_debit</th>     <td>    0.0985</td> <td>    0.022</td> <td>    4.460</td> <td> 0.000</td> <td>    0.055</td> <td>    0.142</td>\n",
       "</tr>\n",
       "<tr>\n",
       "  <th>current_month_balance</th>    <td>   -1.4954</td> <td>    0.060</td> <td>  -25.058</td> <td> 0.000</td> <td>   -1.612</td> <td>   -1.378</td>\n",
       "</tr>\n",
       "<tr>\n",
       "  <th>previous_month_balance</th>   <td>    1.1564</td> <td>    0.055</td> <td>   20.955</td> <td> 0.000</td> <td>    1.048</td> <td>    1.265</td>\n",
       "</tr>\n",
       "<tr>\n",
       "  <th>vintage</th>                  <td>   -0.0001</td> <td> 1.32e-05</td> <td>  -10.094</td> <td> 0.000</td> <td>   -0.000</td> <td>   -0.000</td>\n",
       "</tr>\n",
       "<tr>\n",
       "  <th>occupation_retired</th>       <td>    0.0838</td> <td>    0.620</td> <td>    0.135</td> <td> 0.892</td> <td>   -1.131</td> <td>    1.299</td>\n",
       "</tr>\n",
       "<tr>\n",
       "  <th>occupation_salaried</th>      <td>    0.3242</td> <td>    0.616</td> <td>    0.527</td> <td> 0.598</td> <td>   -0.882</td> <td>    1.531</td>\n",
       "</tr>\n",
       "<tr>\n",
       "  <th>occupation_self_employed</th> <td>    0.4343</td> <td>    0.615</td> <td>    0.707</td> <td> 0.480</td> <td>   -0.771</td> <td>    1.639</td>\n",
       "</tr>\n",
       "<tr>\n",
       "  <th>occupation_student</th>       <td>    0.1543</td> <td>    0.619</td> <td>    0.249</td> <td> 0.803</td> <td>   -1.060</td> <td>    1.368</td>\n",
       "</tr>\n",
       "</table>"
      ],
      "text/plain": [
       "<class 'statsmodels.iolib.summary.Summary'>\n",
       "\"\"\"\n",
       "                           Logit Regression Results                           \n",
       "==============================================================================\n",
       "Dep. Variable:                  churn   No. Observations:                18921\n",
       "Model:                          Logit   Df Residuals:                    18911\n",
       "Method:                           MLE   Df Model:                            9\n",
       "Date:                Wed, 09 Dec 2020   Pseudo R-squ.:                 0.09625\n",
       "Time:                        15:11:40   Log-Likelihood:                -8183.1\n",
       "converged:                       True   LL-Null:                       -9054.6\n",
       "                                        LLR p-value:                     0.000\n",
       "============================================================================================\n",
       "                               coef    std err          z      P>|z|      [0.025      0.975]\n",
       "--------------------------------------------------------------------------------------------\n",
       "const                       -1.6815      0.616     -2.731      0.006      -2.888      -0.475\n",
       "current_month_debit          0.4940      0.023     21.742      0.000       0.449       0.539\n",
       "previous_month_debit         0.0985      0.022      4.460      0.000       0.055       0.142\n",
       "current_month_balance       -1.4954      0.060    -25.058      0.000      -1.612      -1.378\n",
       "previous_month_balance       1.1564      0.055     20.955      0.000       1.048       1.265\n",
       "vintage                     -0.0001   1.32e-05    -10.094      0.000      -0.000      -0.000\n",
       "occupation_retired           0.0838      0.620      0.135      0.892      -1.131       1.299\n",
       "occupation_salaried          0.3242      0.616      0.527      0.598      -0.882       1.531\n",
       "occupation_self_employed     0.4343      0.615      0.707      0.480      -0.771       1.639\n",
       "occupation_student           0.1543      0.619      0.249      0.803      -1.060       1.368\n",
       "============================================================================================\n",
       "\"\"\""
      ]
     },
     "execution_count": 54,
     "metadata": {},
     "output_type": "execute_result"
    }
   ],
   "source": [
    "res.summary()"
   ]
  },
  {
   "cell_type": "code",
   "execution_count": 55,
   "metadata": {},
   "outputs": [
    {
     "data": {
      "text/plain": [
       "array([0.13, 0.14, 0.72, ..., 0.10, 0.15, 0.12])"
      ]
     },
     "execution_count": 55,
     "metadata": {},
     "output_type": "execute_result"
    }
   ],
   "source": [
    "np.set_printoptions(formatter={'float':lambda x:\"{0:0.2f}\".format(x)})\n",
    "res.predict()"
   ]
  },
  {
   "cell_type": "code",
   "execution_count": 56,
   "metadata": {},
   "outputs": [
    {
     "data": {
      "text/plain": [
       "array([0, 0, 0, ..., 1, 0, 1], dtype=int64)"
      ]
     },
     "execution_count": 56,
     "metadata": {},
     "output_type": "execute_result"
    }
   ],
   "source": [
    "np.array(Y)"
   ]
  },
  {
   "cell_type": "code",
   "execution_count": 57,
   "metadata": {},
   "outputs": [
    {
     "data": {
      "text/plain": [
       "array([[15163.00, 262.00],\n",
       "       [3096.00, 400.00]])"
      ]
     },
     "execution_count": 57,
     "metadata": {},
     "output_type": "execute_result"
    }
   ],
   "source": [
    "res.pred_table()"
   ]
  },
  {
   "cell_type": "code",
   "execution_count": 58,
   "metadata": {},
   "outputs": [],
   "source": [
    "cm=pd.DataFrame(res.pred_table(),columns=['Predicted 0','Predicted 1'],index=['Actual 0','Actual 1'])"
   ]
  },
  {
   "cell_type": "code",
   "execution_count": 59,
   "metadata": {},
   "outputs": [
    {
     "data": {
      "text/html": [
       "<div>\n",
       "<style scoped>\n",
       "    .dataframe tbody tr th:only-of-type {\n",
       "        vertical-align: middle;\n",
       "    }\n",
       "\n",
       "    .dataframe tbody tr th {\n",
       "        vertical-align: top;\n",
       "    }\n",
       "\n",
       "    .dataframe thead th {\n",
       "        text-align: right;\n",
       "    }\n",
       "</style>\n",
       "<table border=\"1\" class=\"dataframe\">\n",
       "  <thead>\n",
       "    <tr style=\"text-align: right;\">\n",
       "      <th></th>\n",
       "      <th>Predicted 0</th>\n",
       "      <th>Predicted 1</th>\n",
       "    </tr>\n",
       "  </thead>\n",
       "  <tbody>\n",
       "    <tr>\n",
       "      <th>Actual 0</th>\n",
       "      <td>15163.0</td>\n",
       "      <td>262.0</td>\n",
       "    </tr>\n",
       "    <tr>\n",
       "      <th>Actual 1</th>\n",
       "      <td>3096.0</td>\n",
       "      <td>400.0</td>\n",
       "    </tr>\n",
       "  </tbody>\n",
       "</table>\n",
       "</div>"
      ],
      "text/plain": [
       "          Predicted 0  Predicted 1\n",
       "Actual 0      15163.0        262.0\n",
       "Actual 1       3096.0        400.0"
      ]
     },
     "execution_count": 59,
     "metadata": {},
     "output_type": "execute_result"
    }
   ],
   "source": [
    "cm"
   ]
  },
  {
   "cell_type": "code",
   "execution_count": 60,
   "metadata": {},
   "outputs": [
    {
     "data": {
      "text/plain": [
       "0.8225252365096982"
      ]
     },
     "execution_count": 60,
     "metadata": {},
     "output_type": "execute_result"
    }
   ],
   "source": [
    "accuracy=(cm.iloc[0,0]+cm.iloc[1,1])/(cm.iloc[0,0]+cm.iloc[1,1]+cm.iloc[0,1]+cm.iloc[1,0])\n",
    "accuracy"
   ]
  },
  {
   "cell_type": "code",
   "execution_count": 61,
   "metadata": {},
   "outputs": [],
   "source": [
    "#Testing the model"
   ]
  },
  {
   "cell_type": "code",
   "execution_count": 62,
   "metadata": {},
   "outputs": [
    {
     "name": "stdout",
     "output_type": "stream",
     "text": [
      "Optimization terminated successfully.\n",
      "         Current function value: 0.430925\n",
      "         Iterations 7\n"
     ]
    }
   ],
   "source": [
    "x=sm.add_constant(X_test)\n",
    "reg_log_=sm.Logit(y_test,x)\n",
    "result=reg_log_.fit()"
   ]
  },
  {
   "cell_type": "raw",
   "metadata": {},
   "source": []
  },
  {
   "cell_type": "code",
   "execution_count": 63,
   "metadata": {},
   "outputs": [
    {
     "data": {
      "text/html": [
       "<table class=\"simpletable\">\n",
       "<caption>Logit Regression Results</caption>\n",
       "<tr>\n",
       "  <th>Dep. Variable:</th>       <td>churn</td>      <th>  No. Observations:  </th>   <td>  9461</td>  \n",
       "</tr>\n",
       "<tr>\n",
       "  <th>Model:</th>               <td>Logit</td>      <th>  Df Residuals:      </th>   <td>  9451</td>  \n",
       "</tr>\n",
       "<tr>\n",
       "  <th>Method:</th>               <td>MLE</td>       <th>  Df Model:          </th>   <td>     9</td>  \n",
       "</tr>\n",
       "<tr>\n",
       "  <th>Date:</th>          <td>Wed, 09 Dec 2020</td> <th>  Pseudo R-squ.:     </th>   <td>0.1042</td>  \n",
       "</tr>\n",
       "<tr>\n",
       "  <th>Time:</th>              <td>15:11:41</td>     <th>  Log-Likelihood:    </th>  <td> -4077.0</td> \n",
       "</tr>\n",
       "<tr>\n",
       "  <th>converged:</th>           <td>True</td>       <th>  LL-Null:           </th>  <td> -4551.1</td> \n",
       "</tr>\n",
       "<tr>\n",
       "  <th> </th>                      <td> </td>        <th>  LLR p-value:       </th> <td>2.583e-198</td>\n",
       "</tr>\n",
       "</table>\n",
       "<table class=\"simpletable\">\n",
       "<tr>\n",
       "              <td></td>                <th>coef</th>     <th>std err</th>      <th>z</th>      <th>P>|z|</th>  <th>[0.025</th>    <th>0.975]</th>  \n",
       "</tr>\n",
       "<tr>\n",
       "  <th>const</th>                    <td>   -2.0321</td> <td>    1.129</td> <td>   -1.799</td> <td> 0.072</td> <td>   -4.246</td> <td>    0.181</td>\n",
       "</tr>\n",
       "<tr>\n",
       "  <th>current_month_debit</th>      <td>    0.5665</td> <td>    0.033</td> <td>   17.148</td> <td> 0.000</td> <td>    0.502</td> <td>    0.631</td>\n",
       "</tr>\n",
       "<tr>\n",
       "  <th>previous_month_debit</th>     <td>    0.1496</td> <td>    0.031</td> <td>    4.822</td> <td> 0.000</td> <td>    0.089</td> <td>    0.210</td>\n",
       "</tr>\n",
       "<tr>\n",
       "  <th>current_month_balance</th>    <td>   -1.4561</td> <td>    0.085</td> <td>  -17.189</td> <td> 0.000</td> <td>   -1.622</td> <td>   -1.290</td>\n",
       "</tr>\n",
       "<tr>\n",
       "  <th>previous_month_balance</th>   <td>    1.0818</td> <td>    0.079</td> <td>   13.748</td> <td> 0.000</td> <td>    0.928</td> <td>    1.236</td>\n",
       "</tr>\n",
       "<tr>\n",
       "  <th>vintage</th>                  <td>   -0.0001</td> <td> 1.88e-05</td> <td>   -7.308</td> <td> 0.000</td> <td>   -0.000</td> <td>   -0.000</td>\n",
       "</tr>\n",
       "<tr>\n",
       "  <th>occupation_retired</th>       <td>    0.7522</td> <td>    1.133</td> <td>    0.664</td> <td> 0.507</td> <td>   -1.468</td> <td>    2.972</td>\n",
       "</tr>\n",
       "<tr>\n",
       "  <th>occupation_salaried</th>      <td>    0.6023</td> <td>    1.129</td> <td>    0.533</td> <td> 0.594</td> <td>   -1.611</td> <td>    2.816</td>\n",
       "</tr>\n",
       "<tr>\n",
       "  <th>occupation_self_employed</th> <td>    0.7850</td> <td>    1.128</td> <td>    0.696</td> <td> 0.487</td> <td>   -1.426</td> <td>    2.997</td>\n",
       "</tr>\n",
       "<tr>\n",
       "  <th>occupation_student</th>       <td>    0.6842</td> <td>    1.133</td> <td>    0.604</td> <td> 0.546</td> <td>   -1.536</td> <td>    2.904</td>\n",
       "</tr>\n",
       "</table>"
      ],
      "text/plain": [
       "<class 'statsmodels.iolib.summary.Summary'>\n",
       "\"\"\"\n",
       "                           Logit Regression Results                           \n",
       "==============================================================================\n",
       "Dep. Variable:                  churn   No. Observations:                 9461\n",
       "Model:                          Logit   Df Residuals:                     9451\n",
       "Method:                           MLE   Df Model:                            9\n",
       "Date:                Wed, 09 Dec 2020   Pseudo R-squ.:                  0.1042\n",
       "Time:                        15:11:41   Log-Likelihood:                -4077.0\n",
       "converged:                       True   LL-Null:                       -4551.1\n",
       "                                        LLR p-value:                2.583e-198\n",
       "============================================================================================\n",
       "                               coef    std err          z      P>|z|      [0.025      0.975]\n",
       "--------------------------------------------------------------------------------------------\n",
       "const                       -2.0321      1.129     -1.799      0.072      -4.246       0.181\n",
       "current_month_debit          0.5665      0.033     17.148      0.000       0.502       0.631\n",
       "previous_month_debit         0.1496      0.031      4.822      0.000       0.089       0.210\n",
       "current_month_balance       -1.4561      0.085    -17.189      0.000      -1.622      -1.290\n",
       "previous_month_balance       1.0818      0.079     13.748      0.000       0.928       1.236\n",
       "vintage                     -0.0001   1.88e-05     -7.308      0.000      -0.000      -0.000\n",
       "occupation_retired           0.7522      1.133      0.664      0.507      -1.468       2.972\n",
       "occupation_salaried          0.6023      1.129      0.533      0.594      -1.611       2.816\n",
       "occupation_self_employed     0.7850      1.128      0.696      0.487      -1.426       2.997\n",
       "occupation_student           0.6842      1.133      0.604      0.546      -1.536       2.904\n",
       "============================================================================================\n",
       "\"\"\""
      ]
     },
     "execution_count": 63,
     "metadata": {},
     "output_type": "execute_result"
    }
   ],
   "source": [
    "result.summary()"
   ]
  },
  {
   "cell_type": "code",
   "execution_count": 64,
   "metadata": {},
   "outputs": [],
   "source": [
    "conf_matrix=pd.DataFrame(result.pred_table(),columns=['Predicted 0','Predicted 1'],index=['Actual 0','Actual 1'])"
   ]
  },
  {
   "cell_type": "code",
   "execution_count": 65,
   "metadata": {},
   "outputs": [
    {
     "data": {
      "text/html": [
       "<div>\n",
       "<style scoped>\n",
       "    .dataframe tbody tr th:only-of-type {\n",
       "        vertical-align: middle;\n",
       "    }\n",
       "\n",
       "    .dataframe tbody tr th {\n",
       "        vertical-align: top;\n",
       "    }\n",
       "\n",
       "    .dataframe thead th {\n",
       "        text-align: right;\n",
       "    }\n",
       "</style>\n",
       "<table border=\"1\" class=\"dataframe\">\n",
       "  <thead>\n",
       "    <tr style=\"text-align: right;\">\n",
       "      <th></th>\n",
       "      <th>Predicted 0</th>\n",
       "      <th>Predicted 1</th>\n",
       "    </tr>\n",
       "  </thead>\n",
       "  <tbody>\n",
       "    <tr>\n",
       "      <th>Actual 0</th>\n",
       "      <td>7555.0</td>\n",
       "      <td>142.0</td>\n",
       "    </tr>\n",
       "    <tr>\n",
       "      <th>Actual 1</th>\n",
       "      <td>1548.0</td>\n",
       "      <td>216.0</td>\n",
       "    </tr>\n",
       "  </tbody>\n",
       "</table>\n",
       "</div>"
      ],
      "text/plain": [
       "          Predicted 0  Predicted 1\n",
       "Actual 0       7555.0        142.0\n",
       "Actual 1       1548.0        216.0"
      ]
     },
     "execution_count": 65,
     "metadata": {},
     "output_type": "execute_result"
    }
   ],
   "source": [
    "conf_matrix"
   ]
  },
  {
   "cell_type": "code",
   "execution_count": 66,
   "metadata": {},
   "outputs": [
    {
     "data": {
      "text/plain": [
       "0.8213719479970405"
      ]
     },
     "execution_count": 66,
     "metadata": {},
     "output_type": "execute_result"
    }
   ],
   "source": [
    "accuracy=(conf_matrix.iloc[0,0]+conf_matrix.iloc[1,1])/(conf_matrix.iloc[0,0]+conf_matrix.iloc[1,1]+conf_matrix.iloc[0,1]+conf_matrix.iloc[1,0])\n",
    "accuracy"
   ]
  },
  {
   "cell_type": "code",
   "execution_count": null,
   "metadata": {},
   "outputs": [],
   "source": []
  }
 ],
 "metadata": {
  "kernelspec": {
   "display_name": "Python 3",
   "language": "python",
   "name": "python3"
  },
  "language_info": {
   "codemirror_mode": {
    "name": "ipython",
    "version": 3
   },
   "file_extension": ".py",
   "mimetype": "text/x-python",
   "name": "python",
   "nbconvert_exporter": "python",
   "pygments_lexer": "ipython3",
   "version": "3.8.5"
  }
 },
 "nbformat": 4,
 "nbformat_minor": 2
}
